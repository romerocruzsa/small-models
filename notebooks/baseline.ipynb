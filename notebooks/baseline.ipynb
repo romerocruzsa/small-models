{
 "cells": [
  {
   "cell_type": "code",
   "execution_count": 1,
   "metadata": {},
   "outputs": [],
   "source": [
    "#     Exploratory Data Analysis of Skin Lesion Dataset\n",
    "#     Copyright (C) 2024  Sebastián A. Cruz Romero\n",
    "\n",
    "#     This program is free software: you can redistribute it and/or modify\n",
    "#     it under the terms of the GNU General Public License as published by\n",
    "#     the Free Software Foundation, either version 3 of the License, or\n",
    "#     (at your option) any later version.\n",
    "\n",
    "#     This program is distributed in the hope that it will be useful,\n",
    "#     but WITHOUT ANY WARRANTY; without even the implied warranty of\n",
    "#     MERCHANTABILITY or FITNESS FOR A PARTICULAR PURPOSE.  See the\n",
    "#     GNU General Public License for more details."
   ]
  },
  {
   "cell_type": "markdown",
   "metadata": {},
   "source": [
    "### Import Libraries"
   ]
  },
  {
   "cell_type": "code",
   "execution_count": 2,
   "metadata": {},
   "outputs": [],
   "source": [
    "import os\n",
    "import sys\n",
    "import glob\n",
    "import pandas as pd\n",
    "import numpy as np\n",
    "import matplotlib.pyplot as plt\n",
    "import seaborn as sns\n",
    "import PIL\n",
    "import torch\n",
    "import cv2 as cv\n",
    "from PIL import Image\n",
    "from tqdm import tqdm\n",
    "from torchinfo import summary\n",
    "import torch.nn as nn\n",
    "import torch.nn.functional as F\n",
    "from torch.utils.data import Dataset, DataLoader\n",
    "from torchvision import transforms"
   ]
  },
  {
   "cell_type": "markdown",
   "metadata": {},
   "source": [
    "### Utils"
   ]
  },
  {
   "cell_type": "code",
   "execution_count": 3,
   "metadata": {},
   "outputs": [],
   "source": [
    "def get_image_paths(root_dir, extensions=['.jpg', '.png', '.jpeg']):\n",
    "    \"\"\"\n",
    "    Get a list of all image file paths in the root_dir with specified extensions.\n",
    "    \n",
    "    Parameters:\n",
    "    root_dir (str): Root directory to search for image files.\n",
    "    extensions (list): List of file extensions to include.\n",
    "    \n",
    "    Returns:\n",
    "    list: List of image file paths.\n",
    "    \"\"\"\n",
    "    image_paths = []\n",
    "    for ext in extensions:\n",
    "        # Recursively search for files with the given extension\n",
    "        image_paths.extend(glob.glob(os.path.join(root_dir, '**', f'*{ext}'), recursive=True))\n",
    "    return image_paths\n",
    "\n",
    "def save_paths_to_csv(image_paths, csv_file):\n",
    "    \"\"\"\n",
    "    Save image file paths to a CSV file using pandas.\n",
    "    \n",
    "    Parameters:\n",
    "    image_paths (list): List of image file paths.\n",
    "    csv_file (str): Path to the CSV file where paths will be saved.\n",
    "    \"\"\"\n",
    "    # Create a DataFrame with a single column 'Image Path'\n",
    "    df = pd.DataFrame(image_paths, columns=['Image Path'])\n",
    "    # Save the DataFrame to a CSV file\n",
    "    df.to_csv(csv_file, index=False)\n",
    "\n",
    "def plot_image_grid(df, image_column='image_path', class_column='class', grid_size=(10, 10), image_size=(300, 300)):\n",
    "    \"\"\"\n",
    "    Plots a grid of images from a DataFrame.\n",
    "    \n",
    "    Parameters:\n",
    "    df (pd.DataFrame): DataFrame containing image paths and their respective classes.\n",
    "    image_column (str): Column name in the DataFrame that contains image paths.\n",
    "    class_column (str): Column name in the DataFrame that contains image classes.\n",
    "    grid_size (tuple): Size of the grid (rows, cols).\n",
    "    image_size (tuple): Size to which each image will be resized (width, height).\n",
    "    \n",
    "    Returns:\n",
    "    None\n",
    "    \"\"\"\n",
    "    fig, axes = plt.subplots(grid_size[0], grid_size[1], figsize=(15, 15))\n",
    "    axes = axes.flatten()\n",
    "\n",
    "    for i, (idx, row) in enumerate(df.iterrows()):\n",
    "        if i >= grid_size[0] * grid_size[1]:\n",
    "            break\n",
    "        img_path = row[image_column]\n",
    "        img_class = row[class_column]\n",
    "        \n",
    "        # Read and resize the image\n",
    "        img = cv.imread(img_path)\n",
    "        if img is None:\n",
    "            print(f\"Error loading image at {img_path}\")\n",
    "            continue\n",
    "        img = cv.cvtColor(img, cv.COLOR_BGR2RGB)\n",
    "        img = cv.resize(img, image_size)\n",
    "        \n",
    "        # Plot the image\n",
    "        axes[i].imshow(img)\n",
    "        axes[i].set_title(f\"Type: {img_class}\")\n",
    "        axes[i].axis('off')\n",
    "\n",
    "    plt.tight_layout()\n",
    "    plt.show()\n",
    "\n",
    "def image_features(df, image_column='image_path'):\n",
    "    \"\"\"\n",
    "    Adds image pixel values as features to the DataFrame and normalizes them.\n",
    "    \n",
    "    Parameters:\n",
    "    df (pd.DataFrame): DataFrame containing image paths.\n",
    "    image_column (str): Column name in the DataFrame that contains image paths.\n",
    "    \n",
    "    Returns:\n",
    "    pd.DataFrame: DataFrame with image pixel values added as new columns, normalized between 0 and 1.\n",
    "    \"\"\"\n",
    "    # Initialize a list to hold the image pixel values\n",
    "    image_features = []\n",
    "\n",
    "    for idx, row in df.iterrows():\n",
    "        img_path = row[image_column]\n",
    "        \n",
    "        # Read and resize the image\n",
    "        img = cv.imread(img_path)\n",
    "        if img is None:\n",
    "            print(f\"Error loading image at {img_path}\")\n",
    "            continue\n",
    "        img = cv.cvtColor(img, cv.COLOR_BGR2RGB)\n",
    "        \n",
    "        # Normalize the image array\n",
    "        img_normalized = img / 255.0\n",
    "        \n",
    "        # Flatten the normalized image array and add it to the list\n",
    "        img_flattened = img_normalized.flatten()\n",
    "        image_features.append(img_flattened)\n",
    "    \n",
    "    # Convert the list of image features to a DataFrame\n",
    "    image_features_df = pd.DataFrame(image_features)\n",
    "    df = pd.concat([df.reset_index(drop=True), image_features_df.reset_index(drop=True)], axis=1)\n",
    "    \n",
    "    return df \n",
    "\n",
    "def generate_mask(df):\n",
    "    \"\"\"\n",
    "    Generate and display a mask for an image with lesion outlines.\n",
    "\n",
    "    Parameters:\n",
    "    df (pd.DataFrame): DataFrame containing image paths and classes.\n",
    "\n",
    "    Returns:\n",
    "    None\n",
    "    \"\"\"\n",
    "    # Sample an image from the DataFrame\n",
    "    img = df.sample()\n",
    "    title = img['Neoplasm Type'].item()\n",
    "\n",
    "    # Load image from path\n",
    "    image_path = img['Image Path'].item()\n",
    "    image = Image.open(image_path).convert(\"RGB\")\n",
    "    image_np = np.array(image)\n",
    "\n",
    "    # Generate mask using a simple thresholding technique\n",
    "    gray_image = cv.cvtColor(image_np, cv.COLOR_RGB2GRAY)\n",
    "    _, mask = cv.threshold(gray_image, 127, 255, cv.THRESH_BINARY_INV)\n",
    "\n",
    "    # Find contours\n",
    "    contours, _ = cv.findContours(mask, cv.RETR_EXTERNAL, cv.CHAIN_APPROX_SIMPLE)\n",
    "\n",
    "    # Draw contours on the original image\n",
    "    outlined_image = image_np.copy()\n",
    "    cv.drawContours(outlined_image, contours, -1, (255, 0, 0), 2)  # Draw in red with thickness 2\n",
    "\n",
    "    # Display images\n",
    "    plt.figure(figsize=(10, 5))\n",
    "    plt.subplot(1, 2, 1)\n",
    "    plt.imshow(image)\n",
    "    plt.title(f'{title} - Original Image')\n",
    "    plt.axis('off')\n",
    "\n",
    "    plt.subplot(1, 2, 2)\n",
    "    plt.imshow(outlined_image)\n",
    "    plt.title(f'{title} - Image with Lesion Outline')\n",
    "    plt.axis('off')\n",
    "\n",
    "    plt.show()"
   ]
  },
  {
   "cell_type": "code",
   "execution_count": 4,
   "metadata": {},
   "outputs": [],
   "source": [
    "import torch\n",
    "from torch.utils.data import Dataset\n",
    "from sklearn.metrics import log_loss, mean_squared_error, mean_absolute_error\n",
    "from sklearn.metrics import accuracy_score, precision_score, recall_score, f1_score, roc_curve, roc_auc_score, confusion_matrix, ConfusionMatrixDisplay\n",
    "\n",
    "class PerformanceMetrics(Dataset):\n",
    "    def __init__(self, predicted, actual):\n",
    "        self.predicted = predicted.detach().cpu()\n",
    "        self.actual = actual.detach().cpu()\n",
    "\n",
    "        print(self.predicted, self.actual)\n",
    "        \n",
    "    def performancemetrics(self, predicted, actual):\n",
    "        acc = round(accuracy_score(actual, predicted), 3)\n",
    "        precision = round(precision_score(actual, predicted), 3)\n",
    "        recall = round(recall_score(actual, predicted), 3)\n",
    "        f1score = round(f1_score(actual, predicted), 3)\n",
    "\n",
    "        log = round(log_loss(actual, predicted), 3) # cross entropy loss\n",
    "\n",
    "        fpr, tpr, thr = roc_curve(actual, predicted)\n",
    "        auc = roc_auc_score(actual, predicted)\n",
    "\n",
    "        cmatrix = confusion_matrix(actual, predicted).ravel()\n",
    "        tn, fp, fn, tp = cmatrix\n",
    "\n",
    "        cmatrix_df = pd.DataFrame(data=[tp, fp, tn, fn],\n",
    "                                    index=['True Positive', 'False Positive', 'True Negative', \n",
    "                                        'False Negative'],\n",
    "                                    columns=['Confusion Matrix'])\n",
    "        \n",
    "        met_df = pd.DataFrame(data=[acc, precision, recall, f1score, log, fpr, tpr, auc],\n",
    "                                    index=['Accuracy','Precision', 'Recall', 'F1 Score',\n",
    "                                        'Cross Entropy', 'False Positive Rate', \n",
    "                                        'True Positive Rate', 'Area Under the Curve'], \n",
    "                                    columns=['Performance Metrics'])\n",
    "        return met_df, cmatrix_df\n",
    "    \n",
    "# y_pred, y_validate = np.array([[0],[1],[1],[0],[1]]), np.array([[1],[1],[1],[0],[1]])\n",
    "    \n",
    "# functiontest = PerformanceMetrics(y_pred, y_validate)\n",
    "# metrics_df, cmatrix_df = functiontest.performancemetrics(functiontest.predicted, functiontest.actual)\n",
    "# display(metrics_df)\n",
    "# display(cmatrix_df)"
   ]
  },
  {
   "cell_type": "markdown",
   "metadata": {},
   "source": [
    "### Model Architecture"
   ]
  },
  {
   "cell_type": "code",
   "execution_count": 5,
   "metadata": {},
   "outputs": [],
   "source": [
    "# Define any data augmentations or transformations\n",
    "transform = transforms.Compose([\n",
    "    transforms.Resize((64, 64)),\n",
    "    transforms.RandomHorizontalFlip(p=np.random.rand()),\n",
    "    transforms.RandomVerticalFlip(p=np.random.rand()),\n",
    "    transforms.RandomRotation(degrees=np.random.randint(0,360)),\n",
    "    transforms.ToTensor(),\n",
    "    transforms.Normalize(mean=[0.605, 0.605, 0.605], std=[0.231, 0.231, 0.231])\n",
    "])\n",
    "\n",
    "\n",
    "# Create datasets from CSV files (assuming you have a custom dataset class)\n",
    "class SkinCancerImageDataset(Dataset):\n",
    "    def __init__(self, csv_file, transform=None):\n",
    "        self.data = pd.read_csv(csv_file)\n",
    "        self.transform = transform\n",
    "\n",
    "    def __len__(self):\n",
    "        return len(self.data)\n",
    "\n",
    "    def __getitem__(self, idx):\n",
    "        img_name = self.data.iloc[idx, 0]\n",
    "        image = Image.open(img_name)\n",
    "        label = str(self.data.iloc[idx, 1])\n",
    "        target = int(self.data.iloc[idx, 2])\n",
    "        if self.transform:\n",
    "            image = self.transform(image)\n",
    "        return image, target\n",
    "\n",
    "train_dataset = SkinCancerImageDataset(csv_file='../data/train.csv', transform=transform)\n",
    "test_dataset = SkinCancerImageDataset(csv_file='../data/test.csv', transform=transform)\n",
    "\n",
    "# Create data loaders\n",
    "train_loader = DataLoader(train_dataset, batch_size=16, shuffle=True)\n",
    "test_loader = DataLoader(test_dataset, batch_size=16, shuffle=False)"
   ]
  },
  {
   "cell_type": "code",
   "execution_count": 6,
   "metadata": {},
   "outputs": [],
   "source": [
    "device = torch.device('cpu')\n",
    "\n",
    "# Check for macOS Apple Silicon compatibility\n",
    "if not torch.backends.mps.is_available():\n",
    "    if not torch.backends.mps.is_built():\n",
    "        print(\"MPS not available because the current PyTorch install was not \"\n",
    "              \"built with MPS enabled.\")\n",
    "    else:\n",
    "        print(\"MPS not available because the current MacOS version is not 12.3+ \"\n",
    "              \"and/or you do not have an MPS-enabled device on this machine.\")\n",
    "else:\n",
    "    device = torch.device(\"mps\")\n"
   ]
  },
  {
   "cell_type": "code",
   "execution_count": 7,
   "metadata": {},
   "outputs": [],
   "source": [
    "def train_loop(dataloader, model, loss_fn, optimizer):\n",
    "    model.train()\n",
    "    size = len(dataloader.dataset)\n",
    "    batch_losses = []\n",
    "    batch_acc = []\n",
    "\n",
    "    for batch_idx, (X, y) in tqdm(enumerate(dataloader), total=len(dataloader), desc=\"Training\"):\n",
    "        X, y = X.to(device), y.to(device).unsqueeze(1)\n",
    "        y = y.to(torch.float32)\n",
    "        \n",
    "        optimizer.zero_grad()\n",
    "        pred = model(X)\n",
    "\n",
    "        # print(pred.dtype, pred.shape, pred)\n",
    "        # print(y.dtype, y.shape, y)\n",
    "        loss = loss_fn(pred, y)        \n",
    "        loss.backward()\n",
    "        optimizer.step()\n",
    "\n",
    "        # scores = PerformanceMetrics(pred, y)\n",
    "        # metrics_df, cmatrix_df = scores.performancemetrics(scores.predicted, scores.actual)\n",
    "        \n",
    "        batch_losses.append(loss.item())\n",
    "        predicted = (pred > 0.5).float()\n",
    "        correct = (predicted == y).sum().item()\n",
    "        accuracy = correct / y.size(0)\n",
    "        batch_acc.append(accuracy)\n",
    "    \n",
    "    avg_loss = sum(batch_losses) / len(batch_losses)\n",
    "    avg_accuracy = sum(batch_acc) / len(batch_acc)\n",
    "\n",
    "\n",
    "    print(f\"Avg Loss: {avg_loss:.4f}, Avg Accuracy: {avg_accuracy:.4f}\")\n",
    "\n",
    "    return avg_loss, avg_accuracy#, metrics_df, cmatrix_df\n",
    "\n",
    "def test_loop(dataloader, model, loss_fn):\n",
    "    model.eval()\n",
    "    size = len(dataloader.dataset)\n",
    "    batch_losses = []\n",
    "    batch_acc = []\n",
    "\n",
    "    with torch.no_grad():\n",
    "        # for batch_idx, (X, y) in tqdm(enumerate(dataloader), total=len(dataloader), desc=\"Testing\"):\n",
    "        for batch_idx, (X, y) in enumerate(dataloader):\n",
    "            X, y = X.to(device), y.to(device).unsqueeze(1)\n",
    "            y = y.to(torch.float32)\n",
    "\n",
    "            pred = model(X)\n",
    "            loss = loss_fn(pred, y)\n",
    "\n",
    "            # scores = PerformanceMetrics(pred, y)\n",
    "            # metrics_df, cmatrix_df = scores.performancemetrics(scores.predicted, scores.actual)\n",
    "\n",
    "            batch_losses.append(loss.item())\n",
    "            predicted = (pred > 0.5).float()\n",
    "            correct = (predicted == y).sum().item()\n",
    "            accuracy = correct / y.size(0)\n",
    "            batch_acc.append(accuracy)\n",
    "    \n",
    "    avg_loss = sum(batch_losses) / len(batch_losses)\n",
    "    avg_accuracy = sum(batch_acc) / len(batch_acc)\n",
    "\n",
    "    # print(f\"Avg Loss: {avg_loss:.4f}, Avg Accuracy: {avg_accuracy:.4f}\")\n",
    "\n",
    "    return avg_loss, avg_accuracy#, metrics_df, cmatrix_df\n"
   ]
  },
  {
   "cell_type": "code",
   "execution_count": 8,
   "metadata": {},
   "outputs": [
    {
     "name": "stdout",
     "output_type": "stream",
     "text": [
      "==========================================================================================\n",
      "Layer (type:depth-idx)                   Output Shape              Param #\n",
      "==========================================================================================\n",
      "NCNet                                    [16, 1]                   --\n",
      "├─Conv2d: 1-1                            [16, 16, 62, 62]          448\n",
      "├─MaxPool2d: 1-2                         [16, 16, 31, 31]          --\n",
      "├─Conv2d: 1-3                            [16, 8, 29, 29]           1,160\n",
      "├─MaxPool2d: 1-4                         [16, 8, 14, 14]           --\n",
      "├─Linear: 1-5                            [16, 120]                 188,280\n",
      "├─Linear: 1-6                            [16, 32]                  3,872\n",
      "├─Linear: 1-7                            [16, 1]                   33\n",
      "==========================================================================================\n",
      "Total params: 193,793\n",
      "Trainable params: 193,793\n",
      "Non-trainable params: 0\n",
      "Total mult-adds (Units.MEGABYTES): 46.24\n",
      "==========================================================================================\n",
      "Input size (MB): 0.79\n",
      "Forward/backward pass size (MB): 8.75\n",
      "Params size (MB): 0.78\n",
      "Estimated Total Size (MB): 10.31\n",
      "==========================================================================================\n"
     ]
    }
   ],
   "source": [
    "class NCNet(nn.Module):\n",
    "    def __init__(self):\n",
    "        super(NCNet, self).__init__()\n",
    "        self.conv1 = nn.Conv2d(3, 16, 3)\n",
    "        self.pool = nn.MaxPool2d(2, 2)\n",
    "        self.conv2 = nn.Conv2d(16, 8, 3)\n",
    "\n",
    "        self.fc1 = nn.Linear(8 * 14 * 14, 120)\n",
    "        self.fc2 = nn.Linear(120, 32)\n",
    "        self.fc3 = nn.Linear(32, 1)\n",
    "        # self.threshold = nn.Threshold(0.5, 0)\n",
    "\n",
    "    def forward(self, x):\n",
    "        x = self.pool(F.relu(self.conv1(x)))\n",
    "        x = self.pool(F.relu(self.conv2(x)))\n",
    "\n",
    "        x = torch.flatten(x, 1) # flatten all dimensions except batch\n",
    "        \n",
    "        x = F.relu(self.fc1(x))\n",
    "        x = F.relu(self.fc2(x))\n",
    "        x = self.fc3(x)\n",
    "        # x = torch.sigmoid(x)\n",
    "        # x = self.threshold(x)\n",
    "        x = x.to(torch.float32)\n",
    "        return x\n",
    "\n",
    "model = NCNet()\n",
    "print(summary(model, (16, 3, 64, 64)))"
   ]
  },
  {
   "cell_type": "code",
   "execution_count": 9,
   "metadata": {},
   "outputs": [
    {
     "name": "stdout",
     "output_type": "stream",
     "text": [
      "[======================= Epoch 1/25 =======================]\n"
     ]
    },
    {
     "name": "stderr",
     "output_type": "stream",
     "text": [
      "Training: 100%|██████████| 601/601 [00:12<00:00, 49.39it/s]\n"
     ]
    },
    {
     "name": "stdout",
     "output_type": "stream",
     "text": [
      "Avg Loss: 0.3776, Avg Accuracy: 0.8199\n",
      "[======================= Epoch 2/25 =======================]\n"
     ]
    },
    {
     "name": "stderr",
     "output_type": "stream",
     "text": [
      "Training: 100%|██████████| 601/601 [00:11<00:00, 52.51it/s]\n"
     ]
    },
    {
     "name": "stdout",
     "output_type": "stream",
     "text": [
      "Avg Loss: 0.3214, Avg Accuracy: 0.8561\n",
      "[======================= Epoch 3/25 =======================]\n"
     ]
    },
    {
     "name": "stderr",
     "output_type": "stream",
     "text": [
      "Training: 100%|██████████| 601/601 [00:10<00:00, 54.86it/s]\n"
     ]
    },
    {
     "name": "stdout",
     "output_type": "stream",
     "text": [
      "Avg Loss: 0.2980, Avg Accuracy: 0.8637\n",
      "[======================= Epoch 4/25 =======================]\n"
     ]
    },
    {
     "name": "stderr",
     "output_type": "stream",
     "text": [
      "Training: 100%|██████████| 601/601 [00:11<00:00, 54.62it/s]\n"
     ]
    },
    {
     "name": "stdout",
     "output_type": "stream",
     "text": [
      "Avg Loss: 0.2832, Avg Accuracy: 0.8736\n",
      "[======================= Epoch 5/25 =======================]\n"
     ]
    },
    {
     "name": "stderr",
     "output_type": "stream",
     "text": [
      "Training: 100%|██████████| 601/601 [00:10<00:00, 58.64it/s]\n"
     ]
    },
    {
     "name": "stdout",
     "output_type": "stream",
     "text": [
      "Avg Loss: 0.2800, Avg Accuracy: 0.8786\n",
      "[======================= Epoch 6/25 =======================]\n"
     ]
    },
    {
     "name": "stderr",
     "output_type": "stream",
     "text": [
      "Training: 100%|██████████| 601/601 [00:10<00:00, 55.60it/s]\n"
     ]
    },
    {
     "name": "stdout",
     "output_type": "stream",
     "text": [
      "Avg Loss: 0.2706, Avg Accuracy: 0.8808\n",
      "[======================= Epoch 7/25 =======================]\n"
     ]
    },
    {
     "name": "stderr",
     "output_type": "stream",
     "text": [
      "Training: 100%|██████████| 601/601 [00:10<00:00, 55.51it/s]\n"
     ]
    },
    {
     "name": "stdout",
     "output_type": "stream",
     "text": [
      "Avg Loss: 0.2650, Avg Accuracy: 0.8851\n",
      "[======================= Epoch 8/25 =======================]\n"
     ]
    },
    {
     "name": "stderr",
     "output_type": "stream",
     "text": [
      "Training: 100%|██████████| 601/601 [00:10<00:00, 56.46it/s]\n"
     ]
    },
    {
     "name": "stdout",
     "output_type": "stream",
     "text": [
      "Avg Loss: 0.2590, Avg Accuracy: 0.8827\n",
      "[======================= Epoch 9/25 =======================]\n"
     ]
    },
    {
     "name": "stderr",
     "output_type": "stream",
     "text": [
      "Training: 100%|██████████| 601/601 [00:10<00:00, 56.43it/s]\n"
     ]
    },
    {
     "name": "stdout",
     "output_type": "stream",
     "text": [
      "Avg Loss: 0.2562, Avg Accuracy: 0.8862\n",
      "[======================= Epoch 10/25 =======================]\n"
     ]
    },
    {
     "name": "stderr",
     "output_type": "stream",
     "text": [
      "Training: 100%|██████████| 601/601 [00:10<00:00, 57.00it/s]\n"
     ]
    },
    {
     "name": "stdout",
     "output_type": "stream",
     "text": [
      "Avg Loss: 0.2486, Avg Accuracy: 0.8900\n",
      "[======================= Epoch 11/25 =======================]\n"
     ]
    },
    {
     "name": "stderr",
     "output_type": "stream",
     "text": [
      "Training: 100%|██████████| 601/601 [00:10<00:00, 57.36it/s]\n"
     ]
    },
    {
     "name": "stdout",
     "output_type": "stream",
     "text": [
      "Avg Loss: 0.2502, Avg Accuracy: 0.8899\n",
      "[======================= Epoch 12/25 =======================]\n"
     ]
    },
    {
     "name": "stderr",
     "output_type": "stream",
     "text": [
      "Training: 100%|██████████| 601/601 [00:10<00:00, 56.67it/s]\n"
     ]
    },
    {
     "name": "stdout",
     "output_type": "stream",
     "text": [
      "Avg Loss: 0.2441, Avg Accuracy: 0.8921\n",
      "[======================= Epoch 13/25 =======================]\n"
     ]
    },
    {
     "name": "stderr",
     "output_type": "stream",
     "text": [
      "Training: 100%|██████████| 601/601 [00:10<00:00, 56.58it/s]\n"
     ]
    },
    {
     "name": "stdout",
     "output_type": "stream",
     "text": [
      "Avg Loss: 0.2428, Avg Accuracy: 0.8949\n",
      "[======================= Epoch 14/25 =======================]\n"
     ]
    },
    {
     "name": "stderr",
     "output_type": "stream",
     "text": [
      "Training: 100%|██████████| 601/601 [00:10<00:00, 54.81it/s]\n"
     ]
    },
    {
     "name": "stdout",
     "output_type": "stream",
     "text": [
      "Avg Loss: 0.2375, Avg Accuracy: 0.8975\n",
      "[======================= Epoch 15/25 =======================]\n"
     ]
    },
    {
     "name": "stderr",
     "output_type": "stream",
     "text": [
      "Training: 100%|██████████| 601/601 [00:10<00:00, 55.75it/s]\n"
     ]
    },
    {
     "name": "stdout",
     "output_type": "stream",
     "text": [
      "Avg Loss: 0.2352, Avg Accuracy: 0.8988\n",
      "[======================= Epoch 16/25 =======================]\n"
     ]
    },
    {
     "name": "stderr",
     "output_type": "stream",
     "text": [
      "Training: 100%|██████████| 601/601 [00:10<00:00, 56.23it/s]\n"
     ]
    },
    {
     "name": "stdout",
     "output_type": "stream",
     "text": [
      "Avg Loss: 0.2342, Avg Accuracy: 0.9000\n",
      "[======================= Epoch 17/25 =======================]\n"
     ]
    },
    {
     "name": "stderr",
     "output_type": "stream",
     "text": [
      "Training: 100%|██████████| 601/601 [00:10<00:00, 56.94it/s]\n"
     ]
    },
    {
     "name": "stdout",
     "output_type": "stream",
     "text": [
      "Avg Loss: 0.2310, Avg Accuracy: 0.9000\n",
      "[======================= Epoch 18/25 =======================]\n"
     ]
    },
    {
     "name": "stderr",
     "output_type": "stream",
     "text": [
      "Training: 100%|██████████| 601/601 [00:10<00:00, 56.42it/s]\n"
     ]
    },
    {
     "name": "stdout",
     "output_type": "stream",
     "text": [
      "Avg Loss: 0.2271, Avg Accuracy: 0.9017\n",
      "[======================= Epoch 19/25 =======================]\n"
     ]
    },
    {
     "name": "stderr",
     "output_type": "stream",
     "text": [
      "Training: 100%|██████████| 601/601 [00:10<00:00, 57.33it/s]\n"
     ]
    },
    {
     "name": "stdout",
     "output_type": "stream",
     "text": [
      "Avg Loss: 0.2285, Avg Accuracy: 0.9000\n",
      "[======================= Epoch 20/25 =======================]\n"
     ]
    },
    {
     "name": "stderr",
     "output_type": "stream",
     "text": [
      "Training: 100%|██████████| 601/601 [00:10<00:00, 58.08it/s]\n"
     ]
    },
    {
     "name": "stdout",
     "output_type": "stream",
     "text": [
      "Avg Loss: 0.2232, Avg Accuracy: 0.9036\n",
      "[======================= Epoch 21/25 =======================]\n"
     ]
    },
    {
     "name": "stderr",
     "output_type": "stream",
     "text": [
      "Training: 100%|██████████| 601/601 [00:10<00:00, 58.00it/s]\n"
     ]
    },
    {
     "name": "stdout",
     "output_type": "stream",
     "text": [
      "Avg Loss: 0.2248, Avg Accuracy: 0.9049\n",
      "[======================= Epoch 22/25 =======================]\n"
     ]
    },
    {
     "name": "stderr",
     "output_type": "stream",
     "text": [
      "Training: 100%|██████████| 601/601 [00:10<00:00, 55.97it/s]\n"
     ]
    },
    {
     "name": "stdout",
     "output_type": "stream",
     "text": [
      "Avg Loss: 0.2235, Avg Accuracy: 0.9027\n",
      "[======================= Epoch 23/25 =======================]\n"
     ]
    },
    {
     "name": "stderr",
     "output_type": "stream",
     "text": [
      "Training: 100%|██████████| 601/601 [00:10<00:00, 56.81it/s]\n"
     ]
    },
    {
     "name": "stdout",
     "output_type": "stream",
     "text": [
      "Avg Loss: 0.2250, Avg Accuracy: 0.9021\n",
      "[======================= Epoch 24/25 =======================]\n"
     ]
    },
    {
     "name": "stderr",
     "output_type": "stream",
     "text": [
      "Training: 100%|██████████| 601/601 [00:10<00:00, 56.58it/s]\n"
     ]
    },
    {
     "name": "stdout",
     "output_type": "stream",
     "text": [
      "Avg Loss: 0.2192, Avg Accuracy: 0.9062\n",
      "[======================= Epoch 25/25 =======================]\n"
     ]
    },
    {
     "name": "stderr",
     "output_type": "stream",
     "text": [
      "Training: 100%|██████████| 601/601 [00:10<00:00, 57.26it/s]"
     ]
    },
    {
     "name": "stdout",
     "output_type": "stream",
     "text": [
      "Avg Loss: 0.2164, Avg Accuracy: 0.9066\n",
      "\n",
      "[ Finished Training! ]\n"
     ]
    },
    {
     "name": "stderr",
     "output_type": "stream",
     "text": [
      "\n"
     ]
    }
   ],
   "source": [
    "# Initialize model, loss function, and optimizer\n",
    "model = NCNet()\n",
    "model = model.to(device)\n",
    "\n",
    "loss_fn = torch.nn.BCEWithLogitsLoss()\n",
    "optimizer = torch.optim.Adam(model.parameters(), lr=1e-3)\n",
    "\n",
    "EPOCHS=25\n",
    "\n",
    "epoch_losses = []\n",
    "epoch_acc = []\n",
    "\n",
    "for epoch in range(EPOCHS):\n",
    "    print(f\"[======================= Epoch {epoch + 1}/{EPOCHS} =======================]\")\n",
    "    # avg_loss, avg_accuracy, metrics, cmatrix, aucroc = train_loop(train_loader, model, loss_fn, optimizer)\n",
    "    avg_loss, avg_accuracy = train_loop(train_loader, model, loss_fn, optimizer)\n",
    "    epoch_losses.append(avg_loss)\n",
    "    epoch_acc.append(avg_accuracy)\n",
    "print(\"\\n[ Finished Training! ]\")"
   ]
  },
  {
   "cell_type": "code",
   "execution_count": 10,
   "metadata": {},
   "outputs": [
    {
     "data": {
      "image/png": "[encoded data removed]",
      "text/plain": [
       "<Figure size 1400x600 with 2 Axes>"
      ]
     },
     "metadata": {},
     "output_type": "display_data"
    }
   ],
   "source": [
    "# Create subplots\n",
    "# Create subplots\n",
    "fig, (ax1, ax2) = plt.subplots(1, 2, figsize=(14, 6))\n",
    "\n",
    "# Plot training loss with smooth trend line\n",
    "x = np.arange(len(epoch_losses))\n",
    "z = np.polyfit(x, epoch_losses, 2)  # Fit a 2nd degree polynomial\n",
    "p = np.poly1d(z)\n",
    "ax1.plot(x, epoch_losses, marker='.', linestyle='-', color='b', label='Loss')\n",
    "ax1.plot(x, p(x), color='orange', linestyle='--', linewidth=1, label='Smooth Loss')\n",
    "ax1.set_title('Training Loss')\n",
    "ax1.set_xlabel(\"Epochs\")\n",
    "ax1.set_ylabel(\"Loss\")\n",
    "ax1.legend()\n",
    "\n",
    "# Plot training accuracy with smooth trend line\n",
    "x = np.arange(len(epoch_acc))\n",
    "z = np.polyfit(x, epoch_acc, 2)  # Fit a 2nd degree polynomial\n",
    "p = np.poly1d(z)\n",
    "ax2.plot(x, epoch_acc, marker='.', linestyle='-', color='r', label='Accuracy')\n",
    "ax2.plot(x, p(x), color='orange', linestyle='--', linewidth=1, label='Smooth Accuracy')\n",
    "ax2.set_title('Training Accuracy')\n",
    "ax2.set_xlabel(\"Epochs\")\n",
    "ax2.set_ylabel(\"Accuracy\")\n",
    "ax2.legend()\n",
    "\n",
    "# Add a header title for the entire figure\n",
    "fig.suptitle(f'Model Training Performance for NCNet at {EPOCHS} Epochs', fontsize=16)\n",
    "\n",
    "plt.tight_layout()\n",
    "plt.show()"
   ]
  },
  {
   "cell_type": "code",
   "execution_count": 11,
   "metadata": {},
   "outputs": [
    {
     "name": "stdout",
     "output_type": "stream",
     "text": [
      "[======================= Random Iterations 0/100 =======================]\n",
      "[======================= Random Iterations 10/100 =======================]\n",
      "[======================= Random Iterations 20/100 =======================]\n",
      "[======================= Random Iterations 30/100 =======================]\n",
      "[======================= Random Iterations 40/100 =======================]\n",
      "[======================= Random Iterations 50/100 =======================]\n",
      "[======================= Random Iterations 60/100 =======================]\n",
      "[======================= Random Iterations 70/100 =======================]\n",
      "[======================= Random Iterations 80/100 =======================]\n",
      "[======================= Random Iterations 90/100 =======================]\n"
     ]
    },
    {
     "data": {
      "text/html": [
       "<div>\n",
       "<style scoped>\n",
       "    .dataframe tbody tr th:only-of-type {\n",
       "        vertical-align: middle;\n",
       "    }\n",
       "\n",
       "    .dataframe tbody tr th {\n",
       "        vertical-align: top;\n",
       "    }\n",
       "\n",
       "    .dataframe thead th {\n",
       "        text-align: right;\n",
       "    }\n",
       "</style>\n",
       "<table border=\"1\" class=\"dataframe\">\n",
       "  <thead>\n",
       "    <tr style=\"text-align: right;\">\n",
       "      <th></th>\n",
       "      <th>Best Loss</th>\n",
       "    </tr>\n",
       "    <tr>\n",
       "      <th>k</th>\n",
       "      <th></th>\n",
       "    </tr>\n",
       "  </thead>\n",
       "  <tbody>\n",
       "    <tr>\n",
       "      <th>81</th>\n",
       "      <td>0.239143</td>\n",
       "    </tr>\n",
       "    <tr>\n",
       "      <th>38</th>\n",
       "      <td>0.239261</td>\n",
       "    </tr>\n",
       "    <tr>\n",
       "      <th>77</th>\n",
       "      <td>0.239619</td>\n",
       "    </tr>\n",
       "    <tr>\n",
       "      <th>72</th>\n",
       "      <td>0.239933</td>\n",
       "    </tr>\n",
       "    <tr>\n",
       "      <th>58</th>\n",
       "      <td>0.240361</td>\n",
       "    </tr>\n",
       "    <tr>\n",
       "      <th>64</th>\n",
       "      <td>0.240428</td>\n",
       "    </tr>\n",
       "    <tr>\n",
       "      <th>34</th>\n",
       "      <td>0.240613</td>\n",
       "    </tr>\n",
       "    <tr>\n",
       "      <th>14</th>\n",
       "      <td>0.240788</td>\n",
       "    </tr>\n",
       "    <tr>\n",
       "      <th>26</th>\n",
       "      <td>0.240944</td>\n",
       "    </tr>\n",
       "    <tr>\n",
       "      <th>43</th>\n",
       "      <td>0.241138</td>\n",
       "    </tr>\n",
       "  </tbody>\n",
       "</table>\n",
       "</div>"
      ],
      "text/plain": [
       "    Best Loss\n",
       "k            \n",
       "81   0.239143\n",
       "38   0.239261\n",
       "77   0.239619\n",
       "72   0.239933\n",
       "58   0.240361\n",
       "64   0.240428\n",
       "34   0.240613\n",
       "14   0.240788\n",
       "26   0.240944\n",
       "43   0.241138"
      ]
     },
     "metadata": {},
     "output_type": "display_data"
    },
    {
     "data": {
      "text/html": [
       "<div>\n",
       "<style scoped>\n",
       "    .dataframe tbody tr th:only-of-type {\n",
       "        vertical-align: middle;\n",
       "    }\n",
       "\n",
       "    .dataframe tbody tr th {\n",
       "        vertical-align: top;\n",
       "    }\n",
       "\n",
       "    .dataframe thead th {\n",
       "        text-align: right;\n",
       "    }\n",
       "</style>\n",
       "<table border=\"1\" class=\"dataframe\">\n",
       "  <thead>\n",
       "    <tr style=\"text-align: right;\">\n",
       "      <th></th>\n",
       "      <th>Best Accuracy</th>\n",
       "    </tr>\n",
       "    <tr>\n",
       "      <th>k</th>\n",
       "      <th></th>\n",
       "    </tr>\n",
       "  </thead>\n",
       "  <tbody>\n",
       "    <tr>\n",
       "      <th>59</th>\n",
       "      <td>0.895833</td>\n",
       "    </tr>\n",
       "    <tr>\n",
       "      <th>17</th>\n",
       "      <td>0.895833</td>\n",
       "    </tr>\n",
       "    <tr>\n",
       "      <th>89</th>\n",
       "      <td>0.894841</td>\n",
       "    </tr>\n",
       "    <tr>\n",
       "      <th>97</th>\n",
       "      <td>0.893849</td>\n",
       "    </tr>\n",
       "    <tr>\n",
       "      <th>34</th>\n",
       "      <td>0.893849</td>\n",
       "    </tr>\n",
       "    <tr>\n",
       "      <th>90</th>\n",
       "      <td>0.893849</td>\n",
       "    </tr>\n",
       "    <tr>\n",
       "      <th>36</th>\n",
       "      <td>0.893849</td>\n",
       "    </tr>\n",
       "    <tr>\n",
       "      <th>0</th>\n",
       "      <td>0.892857</td>\n",
       "    </tr>\n",
       "    <tr>\n",
       "      <th>25</th>\n",
       "      <td>0.892857</td>\n",
       "    </tr>\n",
       "    <tr>\n",
       "      <th>13</th>\n",
       "      <td>0.891865</td>\n",
       "    </tr>\n",
       "  </tbody>\n",
       "</table>\n",
       "</div>"
      ],
      "text/plain": [
       "    Best Accuracy\n",
       "k                \n",
       "59       0.895833\n",
       "17       0.895833\n",
       "89       0.894841\n",
       "97       0.893849\n",
       "34       0.893849\n",
       "90       0.893849\n",
       "36       0.893849\n",
       "0        0.892857\n",
       "25       0.892857\n",
       "13       0.891865"
      ]
     },
     "metadata": {},
     "output_type": "display_data"
    }
   ],
   "source": [
    "# # test_loss, test_accuracy, metrics, cmatrix, aucroc = test_loop(test_loader, model, loss_fn)\n",
    "test_epoch_losses = []\n",
    "test_epoch_acc = []\n",
    "\n",
    "for k in range(100):\n",
    "    if k % 10 == 0:\n",
    "        print(f\"[======================= Random Iterations {k}/100 =======================]\")\n",
    "    # avg_loss, avg_accuracy, metrics, cmatrix, aucroc = train_loop(train_loader, model, loss_fn, optimizer)\n",
    "    test_loss, test_accuracy = test_loop(test_loader, model, loss_fn)\n",
    "    test_epoch_losses.append([k, test_loss])\n",
    "    test_epoch_acc.append([k, test_accuracy])\n",
    "\n",
    "test_epoch_losses_df = pd.DataFrame(test_epoch_losses, columns=['k', 'Best Loss']).sort_values(by='Best Loss', ascending=True)[:10].set_index('k')\n",
    "test_epoch_acc_df = pd.DataFrame(test_epoch_acc, columns=['k', 'Best Accuracy']).sort_values(by='Best Accuracy', ascending=False)[:10].set_index('k')\n",
    "\n",
    "display(test_epoch_losses_df, test_epoch_acc_df)"
   ]
  },
  {
   "cell_type": "code",
   "execution_count": null,
   "metadata": {},
   "outputs": [],
   "source": []
  }
 ],
 "metadata": {
  "kernelspec": {
   "display_name": "tinyml",
   "language": "python",
   "name": "python3"
  },
  "language_info": {
   "codemirror_mode": {
    "name": "ipython",
    "version": 3
   },
   "file_extension": ".py",
   "mimetype": "text/x-python",
   "name": "python",
   "nbconvert_exporter": "python",
   "pygments_lexer": "ipython3",
   "version": "3.12.3"
  }
 },
 "nbformat": 4,
 "nbformat_minor": 2
}

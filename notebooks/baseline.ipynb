{
 "cells": [
  {
   "cell_type": "code",
   "execution_count": 1,
   "metadata": {},
   "outputs": [],
   "source": [
    "#     Exploratory Data Analysis of Skin Lesion Dataset\n",
    "#     Copyright (C) 2024  Sebastián A. Cruz Romero\n",
    "\n",
    "#     This program is free software: you can redistribute it and/or modify\n",
    "#     it under the terms of the GNU General Public License as published by\n",
    "#     the Free Software Foundation, either version 3 of the License, or\n",
    "#     (at your option) any later version.\n",
    "\n",
    "#     This program is distributed in the hope that it will be useful,\n",
    "#     but WITHOUT ANY WARRANTY; without even the implied warranty of\n",
    "#     MERCHANTABILITY or FITNESS FOR A PARTICULAR PURPOSE.  See the\n",
    "#     GNU General Public License for more details."
   ]
  },
  {
   "cell_type": "markdown",
   "metadata": {},
   "source": [
    "# Exploration of AI within Biomedical Applications considering Energy Consumption and Memory Limitations as Model Design Constraints\n",
    "\n",
    "## Introduction\n",
    "This notebook is designed to implement a based model to classify images from the `Melanoma Skin Cancer Dataset of 10,000 Images` that can be found in public domain at the [Kaggle](https://www.kaggle.com/datasets/hasnainjaved/melanoma-skin-cancer-dataset-of-10000-images/data) website. We opt by creating a baseline model, a Fully Convolutional Network (FCN) called Neoplasm Convolutional Network or `NCNet` for short. Our objective is to create a light weight model that makes use of tensor data compression (quantization), multi-process data loading (parallelization), aand considers energy limitations and memory usage constraints (optimal for embedded devices)."
   ]
  },
  {
   "cell_type": "markdown",
   "metadata": {},
   "source": [
    "### Import Libraries"
   ]
  },
  {
   "cell_type": "code",
   "execution_count": 2,
   "metadata": {},
   "outputs": [],
   "source": [
    "import os\n",
    "import sys\n",
    "import glob\n",
    "import pandas as pd\n",
    "import numpy as np\n",
    "import matplotlib.pyplot as plt\n",
    "import seaborn as sns\n",
    "import PIL\n",
    "import torch\n",
    "import cv2 as cv\n",
    "from PIL import Image\n",
    "from tqdm import tqdm\n",
    "from torchinfo import summary\n",
    "import torch.nn as nn\n",
    "import torch.nn.functional as F\n",
    "from torch.utils.data import Dataset, DataLoader, WeightedRandomSampler\n",
    "from torchvision import transforms"
   ]
  },
  {
   "cell_type": "code",
   "execution_count": 3,
   "metadata": {},
   "outputs": [
    {
     "data": {
      "text/plain": [
       "<torch._C.Generator at 0x152317190>"
      ]
     },
     "execution_count": 3,
     "metadata": {},
     "output_type": "execute_result"
    }
   ],
   "source": [
    "torch.manual_seed(0)"
   ]
  },
  {
   "cell_type": "markdown",
   "metadata": {},
   "source": [
    "### Utils\n",
    "\n",
    "We have defined several functions to handle and process image data, including retrieving image paths, saving paths to a CSV, plotting image grids, extracting image features, and generating masks for images with lesion outlines. These functions facilitate the preprocessing and visualization of image datasets, aiding in tasks such as machine learning and computer vision."
   ]
  },
  {
   "cell_type": "code",
   "execution_count": 4,
   "metadata": {},
   "outputs": [],
   "source": [
    "def get_image_paths(root_dir, extensions=['.jpg', '.png', '.jpeg']):\n",
    "    \"\"\"\n",
    "    Get a list of all image file paths in the root_dir with specified extensions.\n",
    "    \n",
    "    Parameters:\n",
    "    root_dir (str): Root directory to search for image files.\n",
    "    extensions (list): List of file extensions to include.\n",
    "    \n",
    "    Returns:\n",
    "    list: List of image file paths.\n",
    "    \"\"\"\n",
    "    image_paths = []\n",
    "    for ext in extensions:\n",
    "        # Recursively search for files with the given extension\n",
    "        image_paths.extend(glob.glob(os.path.join(root_dir, '**', f'*{ext}'), recursive=True))\n",
    "    return image_paths\n",
    "\n",
    "def save_paths_to_csv(image_paths, csv_file):\n",
    "    \"\"\"\n",
    "    Save image file paths to a CSV file using pandas.\n",
    "    \n",
    "    Parameters:\n",
    "    image_paths (list): List of image file paths.\n",
    "    csv_file (str): Path to the CSV file where paths will be saved.\n",
    "    \"\"\"\n",
    "    # Create a DataFrame with a single column 'Image Path'\n",
    "    df = pd.DataFrame(image_paths, columns=['Image Path'])\n",
    "    # Save the DataFrame to a CSV file\n",
    "    df.to_csv(csv_file, index=False)\n",
    "\n",
    "def plot_image_grid(df, image_column='image_path', class_column='class', grid_size=(10, 10), image_size=(300, 300)):\n",
    "    \"\"\"\n",
    "    Plots a grid of images from a DataFrame.\n",
    "    \n",
    "    Parameters:\n",
    "    df (pd.DataFrame): DataFrame containing image paths and their respective classes.\n",
    "    image_column (str): Column name in the DataFrame that contains image paths.\n",
    "    class_column (str): Column name in the DataFrame that contains image classes.\n",
    "    grid_size (tuple): Size of the grid (rows, cols).\n",
    "    image_size (tuple): Size to which each image will be resized (width, height).\n",
    "    \n",
    "    Returns:\n",
    "    None\n",
    "    \"\"\"\n",
    "    fig, axes = plt.subplots(grid_size[0], grid_size[1], figsize=(15, 15))\n",
    "    axes = axes.flatten()\n",
    "\n",
    "    for i, (idx, row) in enumerate(df.iterrows()):\n",
    "        if i >= grid_size[0] * grid_size[1]:\n",
    "            break\n",
    "        img_path = row[image_column]\n",
    "        img_class = row[class_column]\n",
    "        \n",
    "        # Read and resize the image\n",
    "        img = cv.imread(img_path)\n",
    "        if img is None:\n",
    "            print(f\"Error loading image at {img_path}\")\n",
    "            continue\n",
    "        img = cv.cvtColor(img, cv.COLOR_BGR2RGB)\n",
    "        img = cv.resize(img, image_size)\n",
    "        \n",
    "        # Plot the image\n",
    "        axes[i].imshow(img)\n",
    "        axes[i].set_title(f\"Type: {img_class}\")\n",
    "        axes[i].axis('off')\n",
    "\n",
    "    plt.tight_layout()\n",
    "    plt.show()\n",
    "\n",
    "def image_features(df, image_column='image_path'):\n",
    "    \"\"\"\n",
    "    Adds image pixel values as features to the DataFrame and normalizes them.\n",
    "    \n",
    "    Parameters:\n",
    "    df (pd.DataFrame): DataFrame containing image paths.\n",
    "    image_column (str): Column name in the DataFrame that contains image paths.\n",
    "    \n",
    "    Returns:\n",
    "    pd.DataFrame: DataFrame with image pixel values added as new columns, normalized between 0 and 1.\n",
    "    \"\"\"\n",
    "    # Initialize a list to hold the image pixel values\n",
    "    image_features = []\n",
    "\n",
    "    for idx, row in df.iterrows():\n",
    "        img_path = row[image_column]\n",
    "        \n",
    "        # Read and resize the image\n",
    "        img = cv.imread(img_path)\n",
    "        if img is None:\n",
    "            print(f\"Error loading image at {img_path}\")\n",
    "            continue\n",
    "        img = cv.cvtColor(img, cv.COLOR_BGR2RGB)\n",
    "        \n",
    "        # Normalize the image array\n",
    "        img_normalized = img / 255.0\n",
    "        \n",
    "        # Flatten the normalized image array and add it to the list\n",
    "        img_flattened = img_normalized.flatten()\n",
    "        image_features.append(img_flattened)\n",
    "    \n",
    "    # Convert the list of image features to a DataFrame\n",
    "    image_features_df = pd.DataFrame(image_features)\n",
    "    df = pd.concat([df.reset_index(drop=True), image_features_df.reset_index(drop=True)], axis=1)\n",
    "    \n",
    "    return df \n",
    "\n",
    "def generate_mask(df):\n",
    "    \"\"\"\n",
    "    Generate and display a mask for an image with lesion outlines.\n",
    "\n",
    "    Parameters:\n",
    "    df (pd.DataFrame): DataFrame containing image paths and classes.\n",
    "\n",
    "    Returns:\n",
    "    None\n",
    "    \"\"\"\n",
    "    # Sample an image from the DataFrame\n",
    "    img = df.sample()\n",
    "    title = img['Neoplasm Type'].item()\n",
    "\n",
    "    # Load image from path\n",
    "    image_path = img['Image Path'].item()\n",
    "    image = Image.open(image_path).convert(\"RGB\")\n",
    "    image_np = np.array(image)\n",
    "\n",
    "    # Generate mask using a simple thresholding technique\n",
    "    gray_image = cv.cvtColor(image_np, cv.COLOR_RGB2GRAY)\n",
    "    _, mask = cv.threshold(gray_image, 127, 255, cv.THRESH_BINARY_INV)\n",
    "\n",
    "    # Find contours\n",
    "    contours, _ = cv.findContours(mask, cv.RETR_EXTERNAL, cv.CHAIN_APPROX_SIMPLE)\n",
    "\n",
    "    # Draw contours on the original image\n",
    "    outlined_image = image_np.copy()\n",
    "    cv.drawContours(outlined_image, contours, -1, (255, 0, 0), 2)  # Draw in red with thickness 2\n",
    "\n",
    "    # Display images\n",
    "    plt.figure(figsize=(10, 5))\n",
    "    plt.subplot(1, 2, 1)\n",
    "    plt.imshow(image)\n",
    "    plt.title(f'{title} - Original Image')\n",
    "    plt.axis('off')\n",
    "\n",
    "    plt.subplot(1, 2, 2)\n",
    "    plt.imshow(outlined_image)\n",
    "    plt.title(f'{title} - Image with Lesion Outline')\n",
    "    plt.axis('off')\n",
    "\n",
    "    plt.show()"
   ]
  },
  {
   "cell_type": "markdown",
   "metadata": {},
   "source": [
    "Moreover, we have defined a `PerformanceMetrics` class that helps in evaluating the performance of classification models. The class provides various metrics such as accuracy, precision, recall, F1 score, log loss, ROC curve, AUC score, and confusion matrix, which are essential for assessing the effectiveness of machine learning models. Feel free to modify and adapt the code and documentation to fit your specific use case."
   ]
  },
  {
   "cell_type": "code",
   "execution_count": 5,
   "metadata": {},
   "outputs": [],
   "source": [
    "import torch\n",
    "import torchmetrics\n",
    "\n",
    "class CumulativeMetrics:\n",
    "    def __init__(self):\n",
    "        self.device = device\n",
    "        self.accuracy = torchmetrics.Accuracy(task=\"binary\").to(device)\n",
    "        self.precision = torchmetrics.Precision(task=\"binary\").to(device)\n",
    "        self.recall = torchmetrics.Recall(task=\"binary\").to(device)\n",
    "        self.f1_score = torchmetrics.F1Score(task=\"binary\").to(device)\n",
    "        self.auc_roc = torchmetrics.AUROC(task=\"binary\").to(device)\n",
    "        self.confusion_matrix = torchmetrics.ConfusionMatrix(task=\"binary\", num_classes=2).to(device)\n",
    "\n",
    "        self.reset()\n",
    "\n",
    "    def reset(self):\n",
    "        self.cum_acc = 0.0\n",
    "        self.cum_prec = 0.0\n",
    "        self.cum_rec = 0.0\n",
    "        self.cum_f1 = 0.0\n",
    "        self.cum_auc = 0.0\n",
    "        self.cum_conf_matrix = torch.zeros((2, 2), dtype=torch.int32)\n",
    "        self.num_batches = 0\n",
    "\n",
    "    def update(self, y_pred: torch.Tensor, y_true: torch.Tensor):\n",
    "        y_pred = y_pred.view(-1)\n",
    "        y_true = y_true.view(-1)\n",
    "        y_pred_bin = (y_pred >= 0.5).float()\n",
    "\n",
    "        if torch.sum(y_true) == 0 or torch.sum(1 - y_true) == 0:\n",
    "            acc = self.accuracy(y_pred_bin, y_true).item()\n",
    "            prec, rec, f1, auc = 0.0, 0.0, 0.0, 0.0\n",
    "            print(\"Warning: No positive or no negative samples in targets, setting precision, recall, F1 score, and AUC-ROC to 0.\")\n",
    "        else:\n",
    "            acc = self.accuracy(y_pred_bin, y_true).item()\n",
    "            prec = self.precision(y_pred_bin, y_true).item()\n",
    "            rec = self.recall(y_pred_bin, y_true).item()\n",
    "            f1 = self.f1_score(y_pred_bin, y_true).item()\n",
    "            auc = self.auc_roc(y_pred, y_true).item()\n",
    "\n",
    "        conf_matrix = self.confusion_matrix(y_pred_bin, y_true).cpu().numpy()\n",
    "\n",
    "        self.cum_acc += acc\n",
    "        self.cum_prec += prec\n",
    "        self.cum_rec += rec\n",
    "        self.cum_f1 += f1\n",
    "        self.cum_auc += auc\n",
    "        self.cum_conf_matrix += conf_matrix\n",
    "        self.num_batches += 1\n",
    "\n",
    "    def get_cumulative_metrics(self):\n",
    "        avg_acc = self.cum_acc / self.num_batches\n",
    "        avg_prec = self.cum_prec / self.num_batches\n",
    "        avg_rec = self.cum_rec / self.num_batches\n",
    "        avg_f1 = self.cum_f1 / self.num_batches\n",
    "        avg_auc = self.cum_auc / self.num_batches\n",
    "\n",
    "        # print(f\"Cumulative Accuracy: {avg_acc:.4f}\")\n",
    "        # print(f\"Cumulative Precision: {avg_prec:.4f}\")\n",
    "        # print(f\"Cumulative Recall: {avg_rec:.4f}\")\n",
    "        # print(f\"Cumulative F1 Score: {avg_f1:.4f}\")\n",
    "        # print(f\"Cumulative AUC-ROC: {avg_auc:.4f}\")\n",
    "        # print(\"Cumulative Confusion Matrix:\")\n",
    "        # print(self.cum_conf_matrix)\n",
    "\n",
    "        return avg_acc, avg_prec, avg_rec, avg_f1, avg_auc, self.cum_conf_matrix"
   ]
  },
  {
   "cell_type": "markdown",
   "metadata": {},
   "source": [
    "### Data Pre-processing and Loading"
   ]
  },
  {
   "cell_type": "markdown",
   "metadata": {},
   "source": [
    "We define data transforms and parameters to load our image dataset in the appropriate format. We defined data augmentations, created a custom dataset class for loading and transforming skin cancer images from CSV files, and set up data loaders for the training and testing datasets. These steps are crucial for preparing the data for training and evaluating machine learning models."
   ]
  },
  {
   "cell_type": "code",
   "execution_count": 6,
   "metadata": {},
   "outputs": [],
   "source": [
    "# Define any data augmentations or transformations\n",
    "transform = transforms.Compose([\n",
    "    transforms.Resize((64, 64)),\n",
    "    transforms.RandomHorizontalFlip(p=np.random.rand()),\n",
    "    transforms.RandomVerticalFlip(p=np.random.rand()),\n",
    "    transforms.RandomRotation(degrees=np.random.randint(0,360)),\n",
    "    transforms.ToTensor(),\n",
    "    transforms.Normalize(mean=[0.605, 0.605, 0.605], std=[0.231, 0.231, 0.231])\n",
    "])\n",
    "\n",
    "\n",
    "# Create datasets from CSV files (assuming you have a custom dataset class)\n",
    "class SkinCancerImageDataset(Dataset):\n",
    "    def __init__(self, csv_file, transform=None):\n",
    "        \"\"\"\n",
    "        Initializes the dataset with a CSV file and optional transformations.\n",
    "        \n",
    "        Parameters:\n",
    "        csv_file (str): Path to the CSV file containing image paths and labels.\n",
    "        transform (callable, optional): Optional transformations to be applied to the images.\n",
    "        \"\"\"\n",
    "        self.data = pd.read_csv(csv_file)\n",
    "        self.transform = transform\n",
    "\n",
    "    def __len__(self):\n",
    "        \"\"\"\n",
    "        Returns the total number of samples in the dataset.\n",
    "        \n",
    "        Returns:\n",
    "        int: Number of samples.\n",
    "        \"\"\"\n",
    "        return len(self.data)\n",
    "\n",
    "    def __getitem__(self, idx):\n",
    "        \"\"\"\n",
    "        Retrieves the image and label at the specified index.\n",
    "        \n",
    "        Parameters:\n",
    "        idx (int): Index of the sample to retrieve.\n",
    "        \n",
    "        Returns:\n",
    "        tuple: (image, target) where image is the transformed image and target is the label.\n",
    "        \"\"\"\n",
    "        img_name = self.data.iloc[idx, 0]\n",
    "        image = Image.open(img_name)\n",
    "        label = str(self.data.iloc[idx, 1])\n",
    "        target = int(self.data.iloc[idx, 2])\n",
    "        if self.transform:\n",
    "            image = self.transform(image)\n",
    "        return image, target\n",
    "\n",
    "train_dataset = SkinCancerImageDataset(csv_file='../data/train.csv', transform=transform)\n",
    "test_dataset = SkinCancerImageDataset(csv_file='../data/test.csv', transform=transform)\n",
    "\n",
    "# Calculate class weights\n",
    "targets = train_dataset.data.iloc[:, 2].astype(int)\n",
    "class_sample_count = np.array([len(np.where(targets == t)[0]) for t in np.unique(targets)])\n",
    "weight = 1. / class_sample_count\n",
    "samples_weight = np.array([weight[t] for t in targets])\n",
    "\n",
    "# Create a sampler using WeightedRandomSampler\n",
    "sampler = WeightedRandomSampler(weights=samples_weight, num_samples=len(samples_weight), replacement=True)\n",
    "\n",
    "# Create data loaders with the sampler\n",
    "train_loader = DataLoader(train_dataset, batch_size=32, sampler=sampler)\n",
    "test_loader = DataLoader(test_dataset, batch_size=32, shuffle=sampler)"
   ]
  },
  {
   "cell_type": "markdown",
   "metadata": {},
   "source": [
    "The following script checks if MPS (Metal Performance Shaders) is available on macOS Apple Silicon devices. If MPS is not available, it defaults to using the CPU. This ensures that the code runs on the most efficient hardware available on the user's machine."
   ]
  },
  {
   "cell_type": "code",
   "execution_count": 7,
   "metadata": {},
   "outputs": [
    {
     "name": "stdout",
     "output_type": "stream",
     "text": [
      "Selected device: mps\n"
     ]
    }
   ],
   "source": [
    "device = torch.device('cpu')\n",
    "\n",
    "# Check for macOS Apple Silicon compatibility\n",
    "if not torch.backends.mps.is_available():\n",
    "    if not torch.backends.mps.is_built():\n",
    "        print(\"MPS not available because the current PyTorch install was not \"\n",
    "              \"built with MPS enabled.\")\n",
    "    else:\n",
    "        print(\"MPS not available because the current MacOS version is not 12.3+ \"\n",
    "              \"and/or you do not have an MPS-enabled device on this machine.\")\n",
    "else:\n",
    "    device = torch.device(\"mps\")\n",
    "\n",
    "print(f\"Selected device: {device}\")"
   ]
  },
  {
   "cell_type": "markdown",
   "metadata": {},
   "source": [
    "### Training and Test Loop"
   ]
  },
  {
   "cell_type": "markdown",
   "metadata": {},
   "source": [
    "We define the training and testing loops for a PyTorch model. These loops handle the model's training process by iterating over the data, calculating the loss, updating the model parameters, and evaluating the model's performance. In this example, `train_loop` trains the model and returns the average loss and accuracy for each epoch,while `test_loop` evaluates the model on the test dataset and returns the average loss and accuracy\n"
   ]
  },
  {
   "cell_type": "code",
   "execution_count": 8,
   "metadata": {},
   "outputs": [],
   "source": [
    "def train_loop(dataloader, model, loss_fn, optimizer, cumulative_metrics):\n",
    "    \"\"\"\n",
    "    Training loop for one epoch.\n",
    "    \n",
    "    Parameters:\n",
    "    dataloader (DataLoader): DataLoader containing the training data.\n",
    "    model (torch.nn.Module): PyTorch model to be trained.\n",
    "    loss_fn (callable): Loss function.\n",
    "    optimizer (torch.optim.Optimizer): Optimizer for updating the model parameters.\n",
    "    cumulative_metrics (CumulativeMetrics): Instance of CumulativeMetrics for tracking metrics.\n",
    "    \n",
    "    Returns:\n",
    "    tuple: Average loss and average accuracy for the epoch.\n",
    "    \"\"\"\n",
    "    model.train()\n",
    "    size = len(dataloader.dataset)\n",
    "    batch_losses = []\n",
    "    batch_acc = []\n",
    "    cumulative_metrics.reset()\n",
    "\n",
    "    for batch_idx, (X, y) in tqdm(enumerate(dataloader), total=len(dataloader), desc=\"Training\"):\n",
    "        X, y = X.to(device), y.to(device).unsqueeze(1)\n",
    "        y = y.to(torch.float32)\n",
    "        \n",
    "        optimizer.zero_grad()\n",
    "        pred = model(X)\n",
    "\n",
    "        loss = loss_fn(pred, y)        \n",
    "        loss.backward()\n",
    "        optimizer.step()\n",
    "        \n",
    "        batch_losses.append(loss.item())        \n",
    "        cumulative_metrics.update(pred, y)\n",
    "    \n",
    "    avg_loss = sum(batch_losses) / len(batch_losses)    \n",
    "    avg_acc, avg_prec, avg_rec, avg_f1, avg_auc, conf_matrix = cumulative_metrics.get_cumulative_metrics()\n",
    "\n",
    "    print(f\"Avg Loss: {avg_loss:.4f}, Avg Accuracy: {avg_acc:.4f}\")\n",
    "\n",
    "    return avg_loss, avg_acc, avg_prec, avg_rec, avg_f1, avg_auc, conf_matrix\n",
    "\n",
    "def test_loop(dataloader, model, loss_fn, cumulative_metrics):\n",
    "    \"\"\"\n",
    "    Testing loop to evaluate the model on the test dataset.\n",
    "    \n",
    "    Parameters:\n",
    "    dataloader (DataLoader): DataLoader containing the test data.\n",
    "    model (torch.nn.Module): PyTorch model to be evaluated.\n",
    "    loss_fn (callable): Loss function.\n",
    "    cumulative_metrics (CumulativeMetrics): Instance of CumulativeMetrics for tracking metrics.\n",
    "    \n",
    "    Returns:\n",
    "    tuple: Average loss and average accuracy for the test dataset.\n",
    "    \"\"\"\n",
    "    model.eval()\n",
    "    size = len(dataloader.dataset)\n",
    "    batch_losses = []\n",
    "    cumulative_metrics.reset()\n",
    "\n",
    "    with torch.no_grad():\n",
    "        for batch_idx, (X, y) in enumerate(dataloader):\n",
    "            X, y = X.to(device), y.to(device).unsqueeze(1)\n",
    "            y = y.to(torch.float32)\n",
    "\n",
    "            pred = model(X)\n",
    "            loss = loss_fn(pred, y)\n",
    "\n",
    "            batch_losses.append(loss.item())\n",
    "            cumulative_metrics.update(pred, y)\n",
    "    \n",
    "    avg_loss = sum(batch_losses) / len(batch_losses)    \n",
    "    avg_acc, avg_prec, avg_rec, avg_f1, avg_auc, conf_matrix = cumulative_metrics.get_cumulative_metrics()\n",
    "    \n",
    "    return avg_loss, avg_acc, avg_prec, avg_rec, avg_f1, avg_auc, conf_matrix"
   ]
  },
  {
   "cell_type": "markdown",
   "metadata": {},
   "source": [
    "### Model Architecture"
   ]
  },
  {
   "cell_type": "markdown",
   "metadata": {},
   "source": [
    "Our `NCNet()` class defines a neural network with two convolutional layers, followed by max-pooling layers, and three fully connected layers."
   ]
  },
  {
   "cell_type": "code",
   "execution_count": 9,
   "metadata": {},
   "outputs": [
    {
     "name": "stdout",
     "output_type": "stream",
     "text": [
      "==========================================================================================\n",
      "Layer (type:depth-idx)                   Output Shape              Param #\n",
      "==========================================================================================\n",
      "NCNet                                    [16, 1]                   --\n",
      "├─Conv2d: 1-1                            [16, 16, 62, 62]          448\n",
      "├─MaxPool2d: 1-2                         [16, 16, 31, 31]          --\n",
      "├─Conv2d: 1-3                            [16, 8, 29, 29]           1,160\n",
      "├─MaxPool2d: 1-4                         [16, 8, 14, 14]           --\n",
      "├─Linear: 1-5                            [16, 120]                 188,280\n",
      "├─Linear: 1-6                            [16, 32]                  3,872\n",
      "├─Linear: 1-7                            [16, 1]                   33\n",
      "==========================================================================================\n",
      "Total params: 193,793\n",
      "Trainable params: 193,793\n",
      "Non-trainable params: 0\n",
      "Total mult-adds (Units.MEGABYTES): 46.24\n",
      "==========================================================================================\n",
      "Input size (MB): 0.79\n",
      "Forward/backward pass size (MB): 8.75\n",
      "Params size (MB): 0.78\n",
      "Estimated Total Size (MB): 10.31\n",
      "==========================================================================================\n"
     ]
    }
   ],
   "source": [
    "class NCNet(nn.Module):\n",
    "    def __init__(self):\n",
    "        super(NCNet, self).__init__()\n",
    "        self.conv1 = nn.Conv2d(3, 16, 3)\n",
    "        self.pool = nn.MaxPool2d(2, 2)\n",
    "        self.conv2 = nn.Conv2d(16, 8, 3)\n",
    "\n",
    "        self.fc1 = nn.Linear(8 * 14 * 14, 120)\n",
    "        self.fc2 = nn.Linear(120, 32)\n",
    "        self.fc3 = nn.Linear(32, 1)\n",
    "        # self.threshold = nn.Threshold(0.5, 0)\n",
    "\n",
    "    def forward(self, x):\n",
    "        x = self.pool(F.relu(self.conv1(x)))\n",
    "        x = self.pool(F.relu(self.conv2(x)))\n",
    "\n",
    "        x = torch.flatten(x, 1) # flatten all dimensions except batch\n",
    "        \n",
    "        x = F.relu(self.fc1(x))\n",
    "        x = F.relu(self.fc2(x))\n",
    "        x = self.fc3(x)\n",
    "        # x = torch.sigmoid(x)\n",
    "        # x = self.threshold(x)\n",
    "        x = x.to(torch.float32)\n",
    "        return x\n",
    "\n",
    "model = NCNet().to(device)\n",
    "print(summary(model, (16, 3, 64, 64)))"
   ]
  },
  {
   "cell_type": "markdown",
   "metadata": {},
   "source": [
    "Now, we create an instance of the `NCNet()` model is created and moved to the specified device (CPU or MPS). The loss function we use, `torch.nn.BCEWithLogitsLoss()`, applies for binary classification tasks. It combines a Sigmoid layer and the Binary Cross-Entropy Loss in one single class, which is more numerically stable than using a plain Sigmoid followed by a BCELoss. Our optimizer function for backpropagation, `torch.optim.Adam` is chosen as the optimizer, which is an adaptive learning rate optimization algorithm that's been designed specifically for training deep neural networks. It is initialized with a learning rate of 0.001.\n",
    "\n",
    "The model is trained for a specified number of epochs `EPOCHS`, in this case, 25. For each epoch, the `train_loop` function is called, which performs a forward pass, computes the loss, backpropagates the error, and updates the model parameters. The average loss and accuracy for each epoch are stored in `epoch_losses` and `epoch_acc` lists, respectively. At the end of each epoch, the average loss and accuracy are printed to monitor the training process."
   ]
  },
  {
   "cell_type": "code",
   "execution_count": 10,
   "metadata": {},
   "outputs": [
    {
     "name": "stdout",
     "output_type": "stream",
     "text": [
      "[======================= Epoch 1/25 =======================]\n"
     ]
    },
    {
     "name": "stderr",
     "output_type": "stream",
     "text": [
      "Training:   2%|▏         | 7/301 [00:01<00:33,  8.84it/s]"
     ]
    },
    {
     "name": "stderr",
     "output_type": "stream",
     "text": [
      "Training: 100%|██████████| 301/301 [00:16<00:00, 18.48it/s]\n"
     ]
    },
    {
     "name": "stdout",
     "output_type": "stream",
     "text": [
      "Avg Loss: 0.3871, Avg Accuracy: 0.8166\n",
      "[======================= Epoch 2/25 =======================]\n"
     ]
    },
    {
     "name": "stderr",
     "output_type": "stream",
     "text": [
      "Training: 100%|██████████| 301/301 [00:16<00:00, 18.69it/s]\n"
     ]
    },
    {
     "name": "stdout",
     "output_type": "stream",
     "text": [
      "Avg Loss: 0.3316, Avg Accuracy: 0.8520\n",
      "[======================= Epoch 3/25 =======================]\n"
     ]
    },
    {
     "name": "stderr",
     "output_type": "stream",
     "text": [
      "Training: 100%|██████████| 301/301 [00:16<00:00, 18.05it/s]\n"
     ]
    },
    {
     "name": "stdout",
     "output_type": "stream",
     "text": [
      "Warning: No positive or no negative samples in targets, setting precision, recall, F1 score, and AUC-ROC to 0.\n",
      "Avg Loss: 0.3101, Avg Accuracy: 0.8591\n",
      "[======================= Epoch 4/25 =======================]\n"
     ]
    },
    {
     "name": "stderr",
     "output_type": "stream",
     "text": [
      "Training: 100%|██████████| 301/301 [00:15<00:00, 19.26it/s]\n"
     ]
    },
    {
     "name": "stdout",
     "output_type": "stream",
     "text": [
      "Avg Loss: 0.2929, Avg Accuracy: 0.8687\n",
      "[======================= Epoch 5/25 =======================]\n"
     ]
    },
    {
     "name": "stderr",
     "output_type": "stream",
     "text": [
      "Training: 100%|██████████| 301/301 [00:17<00:00, 17.55it/s]\n"
     ]
    },
    {
     "name": "stdout",
     "output_type": "stream",
     "text": [
      "Avg Loss: 0.2855, Avg Accuracy: 0.8742\n",
      "[======================= Epoch 6/25 =======================]\n"
     ]
    },
    {
     "name": "stderr",
     "output_type": "stream",
     "text": [
      "Training: 100%|██████████| 301/301 [00:15<00:00, 19.11it/s]\n"
     ]
    },
    {
     "name": "stdout",
     "output_type": "stream",
     "text": [
      "Avg Loss: 0.2829, Avg Accuracy: 0.8783\n",
      "[======================= Epoch 7/25 =======================]\n"
     ]
    },
    {
     "name": "stderr",
     "output_type": "stream",
     "text": [
      "Training: 100%|██████████| 301/301 [00:15<00:00, 19.09it/s]\n"
     ]
    },
    {
     "name": "stdout",
     "output_type": "stream",
     "text": [
      "Avg Loss: 0.2806, Avg Accuracy: 0.8735\n",
      "[======================= Epoch 8/25 =======================]\n"
     ]
    },
    {
     "name": "stderr",
     "output_type": "stream",
     "text": [
      "Training: 100%|██████████| 301/301 [00:15<00:00, 19.25it/s]\n"
     ]
    },
    {
     "name": "stdout",
     "output_type": "stream",
     "text": [
      "Avg Loss: 0.2686, Avg Accuracy: 0.8832\n",
      "[======================= Epoch 9/25 =======================]\n"
     ]
    },
    {
     "name": "stderr",
     "output_type": "stream",
     "text": [
      "Training: 100%|██████████| 301/301 [00:15<00:00, 19.79it/s]\n"
     ]
    },
    {
     "name": "stdout",
     "output_type": "stream",
     "text": [
      "Avg Loss: 0.2723, Avg Accuracy: 0.8827\n",
      "[======================= Epoch 10/25 =======================]\n"
     ]
    },
    {
     "name": "stderr",
     "output_type": "stream",
     "text": [
      "Training: 100%|██████████| 301/301 [00:15<00:00, 19.17it/s]\n"
     ]
    },
    {
     "name": "stdout",
     "output_type": "stream",
     "text": [
      "Avg Loss: 0.2701, Avg Accuracy: 0.8829\n",
      "[======================= Epoch 11/25 =======================]\n"
     ]
    },
    {
     "name": "stderr",
     "output_type": "stream",
     "text": [
      "Training: 100%|██████████| 301/301 [00:15<00:00, 19.20it/s]\n"
     ]
    },
    {
     "name": "stdout",
     "output_type": "stream",
     "text": [
      "Avg Loss: 0.2648, Avg Accuracy: 0.8815\n",
      "[======================= Epoch 12/25 =======================]\n"
     ]
    },
    {
     "name": "stderr",
     "output_type": "stream",
     "text": [
      "Training: 100%|██████████| 301/301 [00:18<00:00, 16.21it/s]\n"
     ]
    },
    {
     "name": "stdout",
     "output_type": "stream",
     "text": [
      "Avg Loss: 0.2548, Avg Accuracy: 0.8847\n",
      "[======================= Epoch 13/25 =======================]\n"
     ]
    },
    {
     "name": "stderr",
     "output_type": "stream",
     "text": [
      "Training: 100%|██████████| 301/301 [00:17<00:00, 17.50it/s]\n"
     ]
    },
    {
     "name": "stdout",
     "output_type": "stream",
     "text": [
      "Avg Loss: 0.2541, Avg Accuracy: 0.8869\n",
      "[======================= Epoch 14/25 =======================]\n"
     ]
    },
    {
     "name": "stderr",
     "output_type": "stream",
     "text": [
      "Training: 100%|██████████| 301/301 [00:16<00:00, 18.77it/s]\n"
     ]
    },
    {
     "name": "stdout",
     "output_type": "stream",
     "text": [
      "Avg Loss: 0.2465, Avg Accuracy: 0.8938\n",
      "[======================= Epoch 15/25 =======================]\n"
     ]
    },
    {
     "name": "stderr",
     "output_type": "stream",
     "text": [
      "Training: 100%|██████████| 301/301 [00:16<00:00, 18.72it/s]\n"
     ]
    },
    {
     "name": "stdout",
     "output_type": "stream",
     "text": [
      "Avg Loss: 0.2409, Avg Accuracy: 0.8939\n",
      "[======================= Epoch 16/25 =======================]\n"
     ]
    },
    {
     "name": "stderr",
     "output_type": "stream",
     "text": [
      "Training: 100%|██████████| 301/301 [00:16<00:00, 18.61it/s]\n"
     ]
    },
    {
     "name": "stdout",
     "output_type": "stream",
     "text": [
      "Avg Loss: 0.2463, Avg Accuracy: 0.8924\n",
      "[======================= Epoch 17/25 =======================]\n"
     ]
    },
    {
     "name": "stderr",
     "output_type": "stream",
     "text": [
      "Training: 100%|██████████| 301/301 [00:16<00:00, 18.47it/s]\n"
     ]
    },
    {
     "name": "stdout",
     "output_type": "stream",
     "text": [
      "Avg Loss: 0.2463, Avg Accuracy: 0.8964\n",
      "[======================= Epoch 18/25 =======================]\n"
     ]
    },
    {
     "name": "stderr",
     "output_type": "stream",
     "text": [
      "Training: 100%|██████████| 301/301 [00:15<00:00, 19.35it/s]\n"
     ]
    },
    {
     "name": "stdout",
     "output_type": "stream",
     "text": [
      "Avg Loss: 0.2404, Avg Accuracy: 0.8936\n",
      "[======================= Epoch 19/25 =======================]\n"
     ]
    },
    {
     "name": "stderr",
     "output_type": "stream",
     "text": [
      "Training: 100%|██████████| 301/301 [00:16<00:00, 18.47it/s]\n"
     ]
    },
    {
     "name": "stdout",
     "output_type": "stream",
     "text": [
      "Avg Loss: 0.2380, Avg Accuracy: 0.8993\n",
      "[======================= Epoch 20/25 =======================]\n"
     ]
    },
    {
     "name": "stderr",
     "output_type": "stream",
     "text": [
      "Training: 100%|██████████| 301/301 [00:18<00:00, 15.98it/s]\n"
     ]
    },
    {
     "name": "stdout",
     "output_type": "stream",
     "text": [
      "Avg Loss: 0.2413, Avg Accuracy: 0.8972\n",
      "[======================= Epoch 21/25 =======================]\n"
     ]
    },
    {
     "name": "stderr",
     "output_type": "stream",
     "text": [
      "Training: 100%|██████████| 301/301 [00:16<00:00, 18.76it/s]\n"
     ]
    },
    {
     "name": "stdout",
     "output_type": "stream",
     "text": [
      "Avg Loss: 0.2316, Avg Accuracy: 0.9009\n",
      "[======================= Epoch 22/25 =======================]\n"
     ]
    },
    {
     "name": "stderr",
     "output_type": "stream",
     "text": [
      "Training: 100%|██████████| 301/301 [00:15<00:00, 19.07it/s]\n"
     ]
    },
    {
     "name": "stdout",
     "output_type": "stream",
     "text": [
      "Warning: No positive or no negative samples in targets, setting precision, recall, F1 score, and AUC-ROC to 0.\n",
      "Avg Loss: 0.2308, Avg Accuracy: 0.8981\n",
      "[======================= Epoch 23/25 =======================]\n"
     ]
    },
    {
     "name": "stderr",
     "output_type": "stream",
     "text": [
      "Training: 100%|██████████| 301/301 [00:15<00:00, 18.94it/s]\n"
     ]
    },
    {
     "name": "stdout",
     "output_type": "stream",
     "text": [
      "Avg Loss: 0.2370, Avg Accuracy: 0.8968\n",
      "[======================= Epoch 24/25 =======================]\n"
     ]
    },
    {
     "name": "stderr",
     "output_type": "stream",
     "text": [
      "Training: 100%|██████████| 301/301 [00:21<00:00, 14.18it/s]\n"
     ]
    },
    {
     "name": "stdout",
     "output_type": "stream",
     "text": [
      "Avg Loss: 0.2328, Avg Accuracy: 0.9001\n",
      "[======================= Epoch 25/25 =======================]\n"
     ]
    },
    {
     "name": "stderr",
     "output_type": "stream",
     "text": [
      "Training: 100%|██████████| 301/301 [00:18<00:00, 16.27it/s]\n"
     ]
    },
    {
     "name": "stdout",
     "output_type": "stream",
     "text": [
      "Avg Loss: 0.2285, Avg Accuracy: 0.9021\n",
      "\n",
      "[ Finished Training! ]\n"
     ]
    }
   ],
   "source": [
    "# Initialize model, loss function, and optimizer\n",
    "model = NCNet().to(device)\n",
    "\n",
    "# Binary Cross Entropy with Logits Loss function\n",
    "# Adam optimizer with a learning rate of 0.001\n",
    "loss_fn = torch.nn.BCEWithLogitsLoss()\n",
    "optimizer = torch.optim.Adam(model.parameters(), lr=1e-3)\n",
    "\n",
    "# Number of epochs to train the model\n",
    "EPOCHS = 25\n",
    "\n",
    "# Lists to store the average loss and accuracy for each epoch\n",
    "epoch_losses = []\n",
    "epoch_acc = []\n",
    "\n",
    "for epoch in range(EPOCHS):\n",
    "    print(f\"[======================= Epoch {epoch + 1}/{EPOCHS} =======================]\")\n",
    "    train_loss, train_accuracy, train_precision, train_recall, train_f1, train_auc, train_conf_matrix = train_loop(train_loader, model, loss_fn, optimizer, CumulativeMetrics())\n",
    "    epoch_losses.append(train_loss)\n",
    "    epoch_acc.append(train_accuracy)\n",
    "\n",
    "train_metrics_df = pd.DataFrame([['BCE Loss', 'Accuracy', 'Precision', 'Recall', 'F1 Score', 'AUC-ROC', 'Confusion Matrix'],\n",
    "              [ train_loss, train_accuracy, train_precision, train_recall, train_f1, train_auc, train_conf_matrix.numpy()]], index=['Metrics','Score']).transpose()\n",
    "\n",
    "print(\"\\n[ Finished Training! ]\")"
   ]
  },
  {
   "cell_type": "markdown",
   "metadata": {},
   "source": [
    "To see our training performance, we plot our training loss and accuracy. We create a side-by-side comparison of the training loss and accuracy over the epochs, with smooth trend lines to visualize the overall trend."
   ]
  },
  {
   "cell_type": "code",
   "execution_count": 11,
   "metadata": {},
   "outputs": [
    {
     "data": {
      "image/png": "[encoded data removed]",
      "text/plain": [
       "<Figure size 1400x600 with 2 Axes>"
      ]
     },
     "metadata": {},
     "output_type": "display_data"
    }
   ],
   "source": [
    "# Create subplots\n",
    "fig, (ax1, ax2) = plt.subplots(1, 2, figsize=(14, 6))\n",
    "\n",
    "# Plot training loss with smooth trend line\n",
    "x = np.arange(len(epoch_losses))\n",
    "z = np.polyfit(x, epoch_losses, 2)  # Fit a 2nd degree polynomial\n",
    "p = np.poly1d(z)\n",
    "ax1.plot(x, epoch_losses, marker='.', linestyle='-', color='b', label='Loss')\n",
    "ax1.plot(x, p(x), color='orange', linestyle='--', linewidth=1, label='Smooth Loss')\n",
    "ax1.set_title('Training Loss')\n",
    "ax1.set_xlabel(\"Epochs\")\n",
    "ax1.set_ylabel(\"Loss\")\n",
    "ax1.legend()\n",
    "\n",
    "# Plot training accuracy with smooth trend line\n",
    "x = np.arange(len(epoch_acc))\n",
    "z = np.polyfit(x, epoch_acc, 2)  # Fit a 2nd degree polynomial\n",
    "p = np.poly1d(z)\n",
    "ax2.plot(x, epoch_acc, marker='.', linestyle='-', color='r', label='Accuracy')\n",
    "ax2.plot(x, p(x), color='orange', linestyle='--', linewidth=1, label='Smooth Accuracy')\n",
    "ax2.set_title('Training Accuracy')\n",
    "ax2.set_xlabel(\"Epochs\")\n",
    "ax2.set_ylabel(\"Accuracy\")\n",
    "ax2.legend()\n",
    "\n",
    "# Add a header title for the entire figure\n",
    "fig.suptitle(f'Model Training Performance for NCNet at {EPOCHS} Epochs', fontsize=16)\n",
    "\n",
    "plt.tight_layout()\n",
    "plt.show()"
   ]
  },
  {
   "cell_type": "markdown",
   "metadata": {},
   "source": [
    "Let's do some inference and observe some performance metrics. Our models seems to be overfitting. We can see low Precision, Recall (Sensitivity), and F1 Score with our test data."
   ]
  },
  {
   "cell_type": "code",
   "execution_count": 12,
   "metadata": {},
   "outputs": [
    {
     "data": {
      "text/html": [
       "<div>\n",
       "<style scoped>\n",
       "    .dataframe tbody tr th:only-of-type {\n",
       "        vertical-align: middle;\n",
       "    }\n",
       "\n",
       "    .dataframe tbody tr th {\n",
       "        vertical-align: top;\n",
       "    }\n",
       "\n",
       "    .dataframe thead th {\n",
       "        text-align: right;\n",
       "    }\n",
       "</style>\n",
       "<table border=\"1\" class=\"dataframe\">\n",
       "  <thead>\n",
       "    <tr style=\"text-align: right;\">\n",
       "      <th></th>\n",
       "      <th>Score</th>\n",
       "    </tr>\n",
       "  </thead>\n",
       "  <tbody>\n",
       "    <tr>\n",
       "      <th>BCELoss</th>\n",
       "      <td>0.244585</td>\n",
       "    </tr>\n",
       "    <tr>\n",
       "      <th>Accuracy</th>\n",
       "      <td>0.895508</td>\n",
       "    </tr>\n",
       "    <tr>\n",
       "      <th>Precision</th>\n",
       "      <td>0.940825</td>\n",
       "    </tr>\n",
       "    <tr>\n",
       "      <th>Recall</th>\n",
       "      <td>0.845639</td>\n",
       "    </tr>\n",
       "    <tr>\n",
       "      <th>F1 Score</th>\n",
       "      <td>0.886936</td>\n",
       "    </tr>\n",
       "    <tr>\n",
       "      <th>AUC Score</th>\n",
       "      <td>0.963122</td>\n",
       "    </tr>\n",
       "    <tr>\n",
       "      <th>Confusion Matrix</th>\n",
       "      <td>[[473, 27], [77, 423]]</td>\n",
       "    </tr>\n",
       "  </tbody>\n",
       "</table>\n",
       "</div>"
      ],
      "text/plain": [
       "                                   Score\n",
       "BCELoss                         0.244585\n",
       "Accuracy                        0.895508\n",
       "Precision                       0.940825\n",
       "Recall                          0.845639\n",
       "F1 Score                        0.886936\n",
       "AUC Score                       0.963122\n",
       "Confusion Matrix  [[473, 27], [77, 423]]"
      ]
     },
     "metadata": {},
     "output_type": "display_data"
    }
   ],
   "source": [
    "test_loss, test_accuracy, test_precision, test_recall, test_f1, test_auc, test_conf_matrix = test_loop(test_loader, model, loss_fn, CumulativeMetrics())\n",
    "\n",
    "test_epoch_metrics = [test_loss, test_accuracy, test_precision, test_recall, test_f1, test_auc, test_conf_matrix.numpy()]\n",
    "test_epoch_cols = ['BCELoss','Accuracy','Precision','Recall','F1 Score','AUC Score','Confusion Matrix']\n",
    "\n",
    "test_epoch_metrics_df = pd.DataFrame(test_epoch_metrics, columns=['Score'], index=test_epoch_cols)[:10]\n",
    "display(test_epoch_metrics_df)"
   ]
  },
  {
   "cell_type": "code",
   "execution_count": 13,
   "metadata": {},
   "outputs": [
    {
     "data": {
      "image/png": "[encoded data removed]",
      "text/plain": [
       "<Figure size 700x500 with 1 Axes>"
      ]
     },
     "metadata": {},
     "output_type": "display_data"
    }
   ],
   "source": [
    "plt.figure(figsize=(7, 5))\n",
    "sns.heatmap(test_conf_matrix, annot=True, fmt='d', cmap='Blues', cbar=False)\n",
    "plt.xlabel('Predicted Labels')\n",
    "plt.ylabel('True Labels')\n",
    "plt.title('Confusion Matrix')\n",
    "plt.xticks([0.5, 1.5], ['Predicted Benign (0)', 'Predicted Malignant (1)'])\n",
    "plt.yticks([0.5, 1.5], ['True Benign (0)', 'True Malignant (1)'])\n",
    "plt.show()"
   ]
  },
  {
   "cell_type": "code",
   "execution_count": 14,
   "metadata": {},
   "outputs": [
    {
     "data": {
      "image/png": "[encoded data removed]",
      "text/plain": [
       "<Figure size 700x500 with 1 Axes>"
      ]
     },
     "metadata": {},
     "output_type": "display_data"
    }
   ],
   "source": [
    "matrix_np = test_conf_matrix.numpy()\n",
    "\n",
    "fpr = [0, matrix_np[0,0]/(matrix_np[0,0]+matrix_np[1,0]), 1]\n",
    "tpr = [0, matrix_np[1,1]/(matrix_np[1,1]+matrix_np[0,1]), 1]\n",
    "\n",
    "plt.figure(figsize=(7, 5))\n",
    "plt.plot(fpr, tpr, color='blue', label=f'AUC Score {test_auc:4f}')\n",
    "plt.plot([0, 1], [0, 1], color='gray', linestyle='--', lw=2)\n",
    "plt.xlim([0.0, 1.0])\n",
    "plt.ylim([0.0, 1.05])\n",
    "plt.xlabel('False Positive Rate (FPR)')\n",
    "plt.ylabel('True Positive Rate (TPR)')\n",
    "plt.title('Receiver Operating Characteristic (ROC) Curve')\n",
    "plt.legend(loc=\"lower right\")\n",
    "plt.show()"
   ]
  },
  {
   "cell_type": "markdown",
   "metadata": {},
   "source": [
    "We want to to observe the variability in loss and accuracy across multiple iterations of testing, providing insights into the stability and performance of our model. For 100 `k` iterations, we wish to see test performance of the top 10 best performing inferences."
   ]
  },
  {
   "cell_type": "code",
   "execution_count": 17,
   "metadata": {},
   "outputs": [
    {
     "data": {
      "text/html": [
       "<div>\n",
       "<style scoped>\n",
       "    .dataframe tbody tr th:only-of-type {\n",
       "        vertical-align: middle;\n",
       "    }\n",
       "\n",
       "    .dataframe tbody tr th {\n",
       "        vertical-align: top;\n",
       "    }\n",
       "\n",
       "    .dataframe thead th {\n",
       "        text-align: right;\n",
       "    }\n",
       "</style>\n",
       "<table border=\"1\" class=\"dataframe\">\n",
       "  <thead>\n",
       "    <tr style=\"text-align: right;\">\n",
       "      <th></th>\n",
       "      <th>BCELoss</th>\n",
       "      <th>Accuracy</th>\n",
       "      <th>Precision</th>\n",
       "      <th>Recall</th>\n",
       "      <th>F1 Score</th>\n",
       "      <th>AUC Score</th>\n",
       "      <th>Confusion Matrix</th>\n",
       "    </tr>\n",
       "    <tr>\n",
       "      <th>k</th>\n",
       "      <th></th>\n",
       "      <th></th>\n",
       "      <th></th>\n",
       "      <th></th>\n",
       "      <th></th>\n",
       "      <th></th>\n",
       "      <th></th>\n",
       "    </tr>\n",
       "  </thead>\n",
       "  <tbody>\n",
       "    <tr>\n",
       "      <th>98</th>\n",
       "      <td>0.226785</td>\n",
       "      <td>0.908203</td>\n",
       "      <td>0.958023</td>\n",
       "      <td>0.858660</td>\n",
       "      <td>0.902217</td>\n",
       "      <td>0.966158</td>\n",
       "      <td>[[479, 21], [73, 427]]</td>\n",
       "    </tr>\n",
       "    <tr>\n",
       "      <th>20</th>\n",
       "      <td>0.226915</td>\n",
       "      <td>0.907227</td>\n",
       "      <td>0.945494</td>\n",
       "      <td>0.863471</td>\n",
       "      <td>0.899940</td>\n",
       "      <td>0.970675</td>\n",
       "      <td>[[475, 25], [70, 430]]</td>\n",
       "    </tr>\n",
       "    <tr>\n",
       "      <th>46</th>\n",
       "      <td>0.235101</td>\n",
       "      <td>0.907227</td>\n",
       "      <td>0.949948</td>\n",
       "      <td>0.858580</td>\n",
       "      <td>0.898737</td>\n",
       "      <td>0.965530</td>\n",
       "      <td>[[477, 23], [72, 428]]</td>\n",
       "    </tr>\n",
       "    <tr>\n",
       "      <th>19</th>\n",
       "      <td>0.235964</td>\n",
       "      <td>0.906250</td>\n",
       "      <td>0.921583</td>\n",
       "      <td>0.820806</td>\n",
       "      <td>0.864540</td>\n",
       "      <td>0.932539</td>\n",
       "      <td>[[478, 22], [74, 426]]</td>\n",
       "    </tr>\n",
       "    <tr>\n",
       "      <th>64</th>\n",
       "      <td>0.230662</td>\n",
       "      <td>0.906250</td>\n",
       "      <td>0.949122</td>\n",
       "      <td>0.859262</td>\n",
       "      <td>0.899887</td>\n",
       "      <td>0.962916</td>\n",
       "      <td>[[476, 24], [72, 428]]</td>\n",
       "    </tr>\n",
       "    <tr>\n",
       "      <th>11</th>\n",
       "      <td>0.239560</td>\n",
       "      <td>0.906250</td>\n",
       "      <td>0.953123</td>\n",
       "      <td>0.853911</td>\n",
       "      <td>0.898383</td>\n",
       "      <td>0.961178</td>\n",
       "      <td>[[479, 21], [75, 425]]</td>\n",
       "    </tr>\n",
       "    <tr>\n",
       "      <th>39</th>\n",
       "      <td>0.231476</td>\n",
       "      <td>0.905273</td>\n",
       "      <td>0.953047</td>\n",
       "      <td>0.855093</td>\n",
       "      <td>0.897087</td>\n",
       "      <td>0.964049</td>\n",
       "      <td>[[476, 24], [70, 430]]</td>\n",
       "    </tr>\n",
       "    <tr>\n",
       "      <th>48</th>\n",
       "      <td>0.243283</td>\n",
       "      <td>0.905273</td>\n",
       "      <td>0.941766</td>\n",
       "      <td>0.864371</td>\n",
       "      <td>0.897225</td>\n",
       "      <td>0.963159</td>\n",
       "      <td>[[477, 23], [71, 429]]</td>\n",
       "    </tr>\n",
       "    <tr>\n",
       "      <th>41</th>\n",
       "      <td>0.234932</td>\n",
       "      <td>0.904297</td>\n",
       "      <td>0.953007</td>\n",
       "      <td>0.851767</td>\n",
       "      <td>0.897007</td>\n",
       "      <td>0.962938</td>\n",
       "      <td>[[478, 22], [76, 424]]</td>\n",
       "    </tr>\n",
       "    <tr>\n",
       "      <th>36</th>\n",
       "      <td>0.235588</td>\n",
       "      <td>0.904297</td>\n",
       "      <td>0.948057</td>\n",
       "      <td>0.850684</td>\n",
       "      <td>0.894269</td>\n",
       "      <td>0.959869</td>\n",
       "      <td>[[477, 23], [75, 425]]</td>\n",
       "    </tr>\n",
       "  </tbody>\n",
       "</table>\n",
       "</div>"
      ],
      "text/plain": [
       "     BCELoss  Accuracy  Precision    Recall  F1 Score  AUC Score  \\\n",
       "k                                                                  \n",
       "98  0.226785  0.908203   0.958023  0.858660  0.902217   0.966158   \n",
       "20  0.226915  0.907227   0.945494  0.863471  0.899940   0.970675   \n",
       "46  0.235101  0.907227   0.949948  0.858580  0.898737   0.965530   \n",
       "19  0.235964  0.906250   0.921583  0.820806  0.864540   0.932539   \n",
       "64  0.230662  0.906250   0.949122  0.859262  0.899887   0.962916   \n",
       "11  0.239560  0.906250   0.953123  0.853911  0.898383   0.961178   \n",
       "39  0.231476  0.905273   0.953047  0.855093  0.897087   0.964049   \n",
       "48  0.243283  0.905273   0.941766  0.864371  0.897225   0.963159   \n",
       "41  0.234932  0.904297   0.953007  0.851767  0.897007   0.962938   \n",
       "36  0.235588  0.904297   0.948057  0.850684  0.894269   0.959869   \n",
       "\n",
       "          Confusion Matrix  \n",
       "k                           \n",
       "98  [[479, 21], [73, 427]]  \n",
       "20  [[475, 25], [70, 430]]  \n",
       "46  [[477, 23], [72, 428]]  \n",
       "19  [[478, 22], [74, 426]]  \n",
       "64  [[476, 24], [72, 428]]  \n",
       "11  [[479, 21], [75, 425]]  \n",
       "39  [[476, 24], [70, 430]]  \n",
       "48  [[477, 23], [71, 429]]  \n",
       "41  [[478, 22], [76, 424]]  \n",
       "36  [[477, 23], [75, 425]]  "
      ]
     },
     "metadata": {},
     "output_type": "display_data"
    }
   ],
   "source": [
    "# Initialize empty lists to store results\n",
    "test_epoch_metrics = []\n",
    "\n",
    "# Perform 100 iterations of testing\n",
    "for k in range(100):\n",
    "    if k % 10 == 0:\n",
    "        print(f\"[======================= Random Iterations {k}/100 =======================]\")\n",
    "    \n",
    "    # Perform testing on the test_loader\n",
    "    test_loss, test_accuracy, test_precision, test_recall, test_f1, test_auc, test_conf_matrix = test_loop(test_loader, model, loss_fn, CumulativeMetrics())\n",
    "    test_conf_matrix = test_conf_matrix.numpy()\n",
    "    \n",
    "    # Append results to lists\n",
    "    test_epoch_metrics.append([k, test_loss, test_accuracy, test_precision, test_recall, test_f1, test_auc, test_conf_matrix])\n",
    "\n",
    "# Convert lists to DataFrames and sort for top results\n",
    "test_epoch_cols = ['k','BCELoss','Accuracy','Precision','Recall','F1 Score','AUC Score','Confusion Matrix']\n",
    "test_epoch_metrics_df = pd.DataFrame(test_epoch_metrics, columns=test_epoch_cols).sort_values(by=['Accuracy'],ascending=False)[:10].set_index('k')\n",
    "\n",
    "# Display the top results for loss and accuracy\n",
    "display(test_epoch_metrics_df)"
   ]
  },
  {
   "cell_type": "code",
   "execution_count": 24,
   "metadata": {},
   "outputs": [
    {
     "data": {
      "text/html": [
       "<div>\n",
       "<style scoped>\n",
       "    .dataframe tbody tr th:only-of-type {\n",
       "        vertical-align: middle;\n",
       "    }\n",
       "\n",
       "    .dataframe tbody tr th {\n",
       "        vertical-align: top;\n",
       "    }\n",
       "\n",
       "    .dataframe thead th {\n",
       "        text-align: right;\n",
       "    }\n",
       "</style>\n",
       "<table border=\"1\" class=\"dataframe\">\n",
       "  <thead>\n",
       "    <tr style=\"text-align: right;\">\n",
       "      <th></th>\n",
       "      <th>Avg Score</th>\n",
       "    </tr>\n",
       "  </thead>\n",
       "  <tbody>\n",
       "    <tr>\n",
       "      <th>BCELoss</th>\n",
       "      <td>0.234027</td>\n",
       "    </tr>\n",
       "    <tr>\n",
       "      <th>Accuracy</th>\n",
       "      <td>0.906055</td>\n",
       "    </tr>\n",
       "    <tr>\n",
       "      <th>Precision</th>\n",
       "      <td>0.947317</td>\n",
       "    </tr>\n",
       "    <tr>\n",
       "      <th>Recall</th>\n",
       "      <td>0.853660</td>\n",
       "    </tr>\n",
       "    <tr>\n",
       "      <th>F1 Score</th>\n",
       "      <td>0.894929</td>\n",
       "    </tr>\n",
       "    <tr>\n",
       "      <th>AUC Score</th>\n",
       "      <td>0.960901</td>\n",
       "    </tr>\n",
       "  </tbody>\n",
       "</table>\n",
       "</div>"
      ],
      "text/plain": [
       "           Avg Score\n",
       "BCELoss     0.234027\n",
       "Accuracy    0.906055\n",
       "Precision   0.947317\n",
       "Recall      0.853660\n",
       "F1 Score    0.894929\n",
       "AUC Score   0.960901"
      ]
     },
     "execution_count": 24,
     "metadata": {},
     "output_type": "execute_result"
    }
   ],
   "source": [
    "metrics_avg = pd.DataFrame(test_epoch_metrics_df.mean(numeric_only=True), columns=['Avg Score'])\n",
    "metrics_avg"
   ]
  },
  {
   "cell_type": "code",
   "execution_count": null,
   "metadata": {},
   "outputs": [],
   "source": []
  }
 ],
 "metadata": {
  "kernelspec": {
   "display_name": "tinyml",
   "language": "python",
   "name": "python3"
  },
  "language_info": {
   "codemirror_mode": {
    "name": "ipython",
    "version": 3
   },
   "file_extension": ".py",
   "mimetype": "text/x-python",
   "name": "python",
   "nbconvert_exporter": "python",
   "pygments_lexer": "ipython3",
   "version": "3.12.3"
  }
 },
 "nbformat": 4,
 "nbformat_minor": 2
}

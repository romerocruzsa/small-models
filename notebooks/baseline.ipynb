{
 "cells": [
  {
   "cell_type": "code",
   "execution_count": 1,
   "metadata": {},
   "outputs": [],
   "source": [
    "#     Exploratory Data Analysis of Skin Lesion Dataset\n",
    "#     Copyright (C) 2024  Sebastián A. Cruz Romero\n",
    "\n",
    "#     This program is free software: you can redistribute it and/or modify\n",
    "#     it under the terms of the GNU General Public License as published by\n",
    "#     the Free Software Foundation, either version 3 of the License, or\n",
    "#     (at your option) any later version.\n",
    "\n",
    "#     This program is distributed in the hope that it will be useful,\n",
    "#     but WITHOUT ANY WARRANTY; without even the implied warranty of\n",
    "#     MERCHANTABILITY or FITNESS FOR A PARTICULAR PURPOSE.  See the\n",
    "#     GNU General Public License for more details."
   ]
  },
  {
   "cell_type": "markdown",
   "metadata": {},
   "source": [
    "# Exploration of AI within Biomedical Applications considering Energy Consumption and Memory Limitations as Model Design Constraints\n",
    "\n",
    "## Introduction\n",
    "This notebook is designed to implement a based model to classify images from the `Melanoma Skin Cancer Dataset of 10,000 Images` that can be found in public domain at the [Kaggle](https://www.kaggle.com/datasets/hasnainjaved/melanoma-skin-cancer-dataset-of-10000-images/data) website. We opt by creating a baseline model, a Fully Convolutional Network (FCN) called Neoplasm Convolutional Network or `NCNet` for short. Our objective is to create a light weight model that makes use of tensor data compression (quantization), multi-process data loading (parallelization), aand considers energy limitations and memory usage constraints (optimal for embedded devices)."
   ]
  },
  {
   "cell_type": "markdown",
   "metadata": {},
   "source": [
    "### Import Libraries"
   ]
  },
  {
   "cell_type": "code",
   "execution_count": 2,
   "metadata": {},
   "outputs": [],
   "source": [
    "import os\n",
    "import sys\n",
    "import glob\n",
    "import pandas as pd\n",
    "import numpy as np\n",
    "import matplotlib.pyplot as plt\n",
    "import seaborn as sns\n",
    "import PIL\n",
    "import torch\n",
    "import cv2 as cv\n",
    "from PIL import Image\n",
    "from tqdm import tqdm\n",
    "from torchinfo import summary\n",
    "import torch.nn as nn\n",
    "import torch.nn.functional as F\n",
    "from torch.utils.data import Dataset, DataLoader\n",
    "from torchvision import transforms"
   ]
  },
  {
   "cell_type": "markdown",
   "metadata": {},
   "source": [
    "### Utils\n",
    "\n",
    "We have defined several functions to handle and process image data, including retrieving image paths, saving paths to a CSV, plotting image grids, extracting image features, and generating masks for images with lesion outlines. These functions facilitate the preprocessing and visualization of image datasets, aiding in tasks such as machine learning and computer vision."
   ]
  },
  {
   "cell_type": "code",
   "execution_count": 3,
   "metadata": {},
   "outputs": [],
   "source": [
    "def get_image_paths(root_dir, extensions=['.jpg', '.png', '.jpeg']):\n",
    "    \"\"\"\n",
    "    Get a list of all image file paths in the root_dir with specified extensions.\n",
    "    \n",
    "    Parameters:\n",
    "    root_dir (str): Root directory to search for image files.\n",
    "    extensions (list): List of file extensions to include.\n",
    "    \n",
    "    Returns:\n",
    "    list: List of image file paths.\n",
    "    \"\"\"\n",
    "    image_paths = []\n",
    "    for ext in extensions:\n",
    "        # Recursively search for files with the given extension\n",
    "        image_paths.extend(glob.glob(os.path.join(root_dir, '**', f'*{ext}'), recursive=True))\n",
    "    return image_paths\n",
    "\n",
    "def save_paths_to_csv(image_paths, csv_file):\n",
    "    \"\"\"\n",
    "    Save image file paths to a CSV file using pandas.\n",
    "    \n",
    "    Parameters:\n",
    "    image_paths (list): List of image file paths.\n",
    "    csv_file (str): Path to the CSV file where paths will be saved.\n",
    "    \"\"\"\n",
    "    # Create a DataFrame with a single column 'Image Path'\n",
    "    df = pd.DataFrame(image_paths, columns=['Image Path'])\n",
    "    # Save the DataFrame to a CSV file\n",
    "    df.to_csv(csv_file, index=False)\n",
    "\n",
    "def plot_image_grid(df, image_column='image_path', class_column='class', grid_size=(10, 10), image_size=(300, 300)):\n",
    "    \"\"\"\n",
    "    Plots a grid of images from a DataFrame.\n",
    "    \n",
    "    Parameters:\n",
    "    df (pd.DataFrame): DataFrame containing image paths and their respective classes.\n",
    "    image_column (str): Column name in the DataFrame that contains image paths.\n",
    "    class_column (str): Column name in the DataFrame that contains image classes.\n",
    "    grid_size (tuple): Size of the grid (rows, cols).\n",
    "    image_size (tuple): Size to which each image will be resized (width, height).\n",
    "    \n",
    "    Returns:\n",
    "    None\n",
    "    \"\"\"\n",
    "    fig, axes = plt.subplots(grid_size[0], grid_size[1], figsize=(15, 15))\n",
    "    axes = axes.flatten()\n",
    "\n",
    "    for i, (idx, row) in enumerate(df.iterrows()):\n",
    "        if i >= grid_size[0] * grid_size[1]:\n",
    "            break\n",
    "        img_path = row[image_column]\n",
    "        img_class = row[class_column]\n",
    "        \n",
    "        # Read and resize the image\n",
    "        img = cv.imread(img_path)\n",
    "        if img is None:\n",
    "            print(f\"Error loading image at {img_path}\")\n",
    "            continue\n",
    "        img = cv.cvtColor(img, cv.COLOR_BGR2RGB)\n",
    "        img = cv.resize(img, image_size)\n",
    "        \n",
    "        # Plot the image\n",
    "        axes[i].imshow(img)\n",
    "        axes[i].set_title(f\"Type: {img_class}\")\n",
    "        axes[i].axis('off')\n",
    "\n",
    "    plt.tight_layout()\n",
    "    plt.show()\n",
    "\n",
    "def image_features(df, image_column='image_path'):\n",
    "    \"\"\"\n",
    "    Adds image pixel values as features to the DataFrame and normalizes them.\n",
    "    \n",
    "    Parameters:\n",
    "    df (pd.DataFrame): DataFrame containing image paths.\n",
    "    image_column (str): Column name in the DataFrame that contains image paths.\n",
    "    \n",
    "    Returns:\n",
    "    pd.DataFrame: DataFrame with image pixel values added as new columns, normalized between 0 and 1.\n",
    "    \"\"\"\n",
    "    # Initialize a list to hold the image pixel values\n",
    "    image_features = []\n",
    "\n",
    "    for idx, row in df.iterrows():\n",
    "        img_path = row[image_column]\n",
    "        \n",
    "        # Read and resize the image\n",
    "        img = cv.imread(img_path)\n",
    "        if img is None:\n",
    "            print(f\"Error loading image at {img_path}\")\n",
    "            continue\n",
    "        img = cv.cvtColor(img, cv.COLOR_BGR2RGB)\n",
    "        \n",
    "        # Normalize the image array\n",
    "        img_normalized = img / 255.0\n",
    "        \n",
    "        # Flatten the normalized image array and add it to the list\n",
    "        img_flattened = img_normalized.flatten()\n",
    "        image_features.append(img_flattened)\n",
    "    \n",
    "    # Convert the list of image features to a DataFrame\n",
    "    image_features_df = pd.DataFrame(image_features)\n",
    "    df = pd.concat([df.reset_index(drop=True), image_features_df.reset_index(drop=True)], axis=1)\n",
    "    \n",
    "    return df \n",
    "\n",
    "def generate_mask(df):\n",
    "    \"\"\"\n",
    "    Generate and display a mask for an image with lesion outlines.\n",
    "\n",
    "    Parameters:\n",
    "    df (pd.DataFrame): DataFrame containing image paths and classes.\n",
    "\n",
    "    Returns:\n",
    "    None\n",
    "    \"\"\"\n",
    "    # Sample an image from the DataFrame\n",
    "    img = df.sample()\n",
    "    title = img['Neoplasm Type'].item()\n",
    "\n",
    "    # Load image from path\n",
    "    image_path = img['Image Path'].item()\n",
    "    image = Image.open(image_path).convert(\"RGB\")\n",
    "    image_np = np.array(image)\n",
    "\n",
    "    # Generate mask using a simple thresholding technique\n",
    "    gray_image = cv.cvtColor(image_np, cv.COLOR_RGB2GRAY)\n",
    "    _, mask = cv.threshold(gray_image, 127, 255, cv.THRESH_BINARY_INV)\n",
    "\n",
    "    # Find contours\n",
    "    contours, _ = cv.findContours(mask, cv.RETR_EXTERNAL, cv.CHAIN_APPROX_SIMPLE)\n",
    "\n",
    "    # Draw contours on the original image\n",
    "    outlined_image = image_np.copy()\n",
    "    cv.drawContours(outlined_image, contours, -1, (255, 0, 0), 2)  # Draw in red with thickness 2\n",
    "\n",
    "    # Display images\n",
    "    plt.figure(figsize=(10, 5))\n",
    "    plt.subplot(1, 2, 1)\n",
    "    plt.imshow(image)\n",
    "    plt.title(f'{title} - Original Image')\n",
    "    plt.axis('off')\n",
    "\n",
    "    plt.subplot(1, 2, 2)\n",
    "    plt.imshow(outlined_image)\n",
    "    plt.title(f'{title} - Image with Lesion Outline')\n",
    "    plt.axis('off')\n",
    "\n",
    "    plt.show()"
   ]
  },
  {
   "cell_type": "markdown",
   "metadata": {},
   "source": [
    "Moreover, we have defined a `PerformanceMetrics` class that helps in evaluating the performance of classification models. The class provides various metrics such as accuracy, precision, recall, F1 score, log loss, ROC curve, AUC score, and confusion matrix, which are essential for assessing the effectiveness of machine learning models. Feel free to modify and adapt the code and documentation to fit your specific use case."
   ]
  },
  {
   "cell_type": "code",
   "execution_count": 4,
   "metadata": {},
   "outputs": [],
   "source": [
    "import torch\n",
    "from torch.utils.data import Dataset\n",
    "from sklearn.metrics import log_loss, mean_squared_error, mean_absolute_error\n",
    "from sklearn.metrics import accuracy_score, precision_score, recall_score, f1_score, roc_curve, roc_auc_score, confusion_matrix, ConfusionMatrixDisplay\n",
    "\n",
    "class PerformanceMetrics(Dataset):\n",
    "    def __init__(self, predicted, actual):\n",
    "        \"\"\"\n",
    "        Initializes the PerformanceMetrics class with predicted and actual values.\n",
    "        \n",
    "        Parameters:\n",
    "        predicted (torch.Tensor): Predicted values from the model.\n",
    "        actual (torch.Tensor): Actual ground truth values.\n",
    "        \"\"\"\n",
    "        self.predicted = predicted.detach().cpu()\n",
    "        self.actual = actual.detach().cpu()\n",
    "        print(self.predicted, self.actual)\n",
    "        \n",
    "    def performancemetrics(self, predicted, actual):\n",
    "        \"\"\"\n",
    "        Calculates various performance metrics and returns them as DataFrames.\n",
    "        \n",
    "        Parameters:\n",
    "        predicted (torch.Tensor): Predicted values.\n",
    "        actual (torch.Tensor): Actual ground truth values.\n",
    "        \n",
    "        Returns:\n",
    "        met_df (pd.DataFrame): DataFrame containing performance metrics.\n",
    "        cmatrix_df (pd.DataFrame): DataFrame containing confusion matrix values.\n",
    "        \"\"\"\n",
    "        acc = round(accuracy_score(actual, predicted), 3)\n",
    "        precision = round(precision_score(actual, predicted), 3)\n",
    "        recall = round(recall_score(actual, predicted), 3)\n",
    "        f1score = round(f1_score(actual, predicted), 3)\n",
    "        log = round(log_loss(actual, predicted), 3) # cross entropy loss\n",
    "\n",
    "        fpr, tpr, _ = roc_curve(actual, predicted)\n",
    "        auc = roc_auc_score(actual, predicted)\n",
    "\n",
    "        cmatrix = confusion_matrix(actual, predicted).ravel()\n",
    "        tn, fp, fn, tp = cmatrix\n",
    "\n",
    "        cmatrix_df = pd.DataFrame(data=[tp, fp, tn, fn],\n",
    "                                  index=['True Positive', 'False Positive', 'True Negative', \n",
    "                                         'False Negative'],\n",
    "                                  columns=['Confusion Matrix'])\n",
    "        \n",
    "        met_df = pd.DataFrame(data=[acc, precision, recall, f1score, log, fpr, tpr, auc],\n",
    "                              index=['Accuracy', 'Precision', 'Recall', 'F1 Score',\n",
    "                                     'Cross Entropy', 'False Positive Rate', \n",
    "                                     'True Positive Rate', 'Area Under the Curve'], \n",
    "                              columns=['Performance Metrics'])\n",
    "        return met_df, cmatrix_df\n",
    "    \n",
    "# y_pred, y_validate = np.array([[0],[1],[1],[0],[1]]), np.array([[1],[1],[1],[0],[1]])\n",
    "    \n",
    "# functiontest = PerformanceMetrics(y_pred, y_validate)\n",
    "# metrics_df, cmatrix_df = functiontest.performancemetrics(functiontest.predicted, functiontest.actual)\n",
    "# display(metrics_df)\n",
    "# display(cmatrix_df)"
   ]
  },
  {
   "cell_type": "markdown",
   "metadata": {},
   "source": [
    "### Model Architecture"
   ]
  },
  {
   "cell_type": "markdown",
   "metadata": {},
   "source": [
    "We define data transforms and parameters to load our image dataset in the appropriate format. We defined data augmentations, created a custom dataset class for loading and transforming skin cancer images from CSV files, and set up data loaders for the training and testing datasets. These steps are crucial for preparing the data for training and evaluating machine learning models."
   ]
  },
  {
   "cell_type": "code",
   "execution_count": 5,
   "metadata": {},
   "outputs": [],
   "source": [
    "# Define any data augmentations or transformations\n",
    "transform = transforms.Compose([\n",
    "    transforms.Resize((64, 64)),\n",
    "    transforms.RandomHorizontalFlip(p=np.random.rand()),\n",
    "    transforms.RandomVerticalFlip(p=np.random.rand()),\n",
    "    transforms.RandomRotation(degrees=np.random.randint(0,360)),\n",
    "    transforms.ToTensor(),\n",
    "    transforms.Normalize(mean=[0.605, 0.605, 0.605], std=[0.231, 0.231, 0.231])\n",
    "])\n",
    "\n",
    "\n",
    "# Create datasets from CSV files (assuming you have a custom dataset class)\n",
    "class SkinCancerImageDataset(Dataset):\n",
    "    def __init__(self, csv_file, transform=None):\n",
    "        \"\"\"\n",
    "        Initializes the dataset with a CSV file and optional transformations.\n",
    "        \n",
    "        Parameters:\n",
    "        csv_file (str): Path to the CSV file containing image paths and labels.\n",
    "        transform (callable, optional): Optional transformations to be applied to the images.\n",
    "        \"\"\"\n",
    "        self.data = pd.read_csv(csv_file)\n",
    "        self.transform = transform\n",
    "\n",
    "    def __len__(self):\n",
    "        \"\"\"\n",
    "        Returns the total number of samples in the dataset.\n",
    "        \n",
    "        Returns:\n",
    "        int: Number of samples.\n",
    "        \"\"\"\n",
    "        return len(self.data)\n",
    "\n",
    "    def __getitem__(self, idx):\n",
    "        \"\"\"\n",
    "        Retrieves the image and label at the specified index.\n",
    "        \n",
    "        Parameters:\n",
    "        idx (int): Index of the sample to retrieve.\n",
    "        \n",
    "        Returns:\n",
    "        tuple: (image, target) where image is the transformed image and target is the label.\n",
    "        \"\"\"\n",
    "        img_name = self.data.iloc[idx, 0]\n",
    "        image = Image.open(img_name)\n",
    "        label = str(self.data.iloc[idx, 1])\n",
    "        target = int(self.data.iloc[idx, 2])\n",
    "        if self.transform:\n",
    "            image = self.transform(image)\n",
    "        return image, target\n",
    "\n",
    "train_dataset = SkinCancerImageDataset(csv_file='../data/train.csv', transform=transform)\n",
    "test_dataset = SkinCancerImageDataset(csv_file='../data/test.csv', transform=transform)\n",
    "\n",
    "# Create data loaders\n",
    "train_loader = DataLoader(train_dataset, batch_size=16, shuffle=True)\n",
    "test_loader = DataLoader(test_dataset, batch_size=16, shuffle=False)"
   ]
  },
  {
   "cell_type": "markdown",
   "metadata": {},
   "source": [
    "The following script checks if MPS (Metal Performance Shaders) is available on macOS Apple Silicon devices. If MPS is not available, it defaults to using the CPU. This ensures that the code runs on the most efficient hardware available on the user's machine."
   ]
  },
  {
   "cell_type": "code",
   "execution_count": 6,
   "metadata": {},
   "outputs": [
    {
     "name": "stdout",
     "output_type": "stream",
     "text": [
      "Selected device: mps\n"
     ]
    }
   ],
   "source": [
    "device = torch.device('cpu')\n",
    "\n",
    "# Check for macOS Apple Silicon compatibility\n",
    "if not torch.backends.mps.is_available():\n",
    "    if not torch.backends.mps.is_built():\n",
    "        print(\"MPS not available because the current PyTorch install was not \"\n",
    "              \"built with MPS enabled.\")\n",
    "    else:\n",
    "        print(\"MPS not available because the current MacOS version is not 12.3+ \"\n",
    "              \"and/or you do not have an MPS-enabled device on this machine.\")\n",
    "else:\n",
    "    device = torch.device(\"mps\")\n",
    "\n",
    "print(f\"Selected device: {device}\")"
   ]
  },
  {
   "cell_type": "markdown",
   "metadata": {},
   "source": [
    "We define the training and testing loops for a PyTorch model. These loops handle the model's training process by iterating over the data, calculating the loss, updating the model parameters, and evaluating the model's performance. In this example, `train_loop` trains the model and returns the average loss and accuracy for each epoch,while `test_loop` evaluates the model on the test dataset and returns the average loss and accuracy\n"
   ]
  },
  {
   "cell_type": "code",
   "execution_count": 7,
   "metadata": {},
   "outputs": [],
   "source": [
    "def train_loop(dataloader, model, loss_fn, optimizer):\n",
    "    \"\"\"\n",
    "    Training loop for one epoch.\n",
    "    \n",
    "    Parameters:\n",
    "    dataloader (DataLoader): DataLoader containing the training data.\n",
    "    model (torch.nn.Module): PyTorch model to be trained.\n",
    "    loss_fn (callable): Loss function.\n",
    "    optimizer (torch.optim.Optimizer): Optimizer for updating the model parameters.\n",
    "    \n",
    "    Returns:\n",
    "    tuple: Average loss and average accuracy for the epoch.\n",
    "    \"\"\"\n",
    "    model.train()\n",
    "    size = len(dataloader.dataset)\n",
    "    batch_losses = []\n",
    "    batch_acc = []\n",
    "\n",
    "    for batch_idx, (X, y) in tqdm(enumerate(dataloader), total=len(dataloader), desc=\"Training\"):\n",
    "        X, y = X.to(device), y.to(device).unsqueeze(1)\n",
    "        y = y.to(torch.float32)\n",
    "        \n",
    "        optimizer.zero_grad()\n",
    "        pred = model(X)\n",
    "\n",
    "        loss = loss_fn(pred, y)        \n",
    "        loss.backward()\n",
    "        optimizer.step()\n",
    "        \n",
    "        batch_losses.append(loss.item())\n",
    "        predicted = (pred > 0.5).float()\n",
    "        correct = (predicted == y).sum().item()\n",
    "        accuracy = correct / y.size(0)\n",
    "        batch_acc.append(accuracy)\n",
    "    \n",
    "    avg_loss = sum(batch_losses) / len(batch_losses)\n",
    "    avg_accuracy = sum(batch_acc) / len(batch_acc)\n",
    "\n",
    "    print(f\"Avg Loss: {avg_loss:.4f}, Avg Accuracy: {avg_accuracy:.4f}\")\n",
    "\n",
    "    return avg_loss, avg_accuracy\n",
    "\n",
    "def test_loop(dataloader, model, loss_fn):\n",
    "    \"\"\"\n",
    "    Testing loop to evaluate the model on the test dataset.\n",
    "    \n",
    "    Parameters:\n",
    "    dataloader (DataLoader): DataLoader containing the test data.\n",
    "    model (torch.nn.Module): PyTorch model to be evaluated.\n",
    "    loss_fn (callable): Loss function.\n",
    "    \n",
    "    Returns:\n",
    "    tuple: Average loss and average accuracy for the test dataset.\n",
    "    \"\"\"\n",
    "    model.eval()\n",
    "    size = len(dataloader.dataset)\n",
    "    batch_losses = []\n",
    "    batch_acc = []\n",
    "\n",
    "    with torch.no_grad():\n",
    "        for batch_idx, (X, y) in enumerate(dataloader):\n",
    "            X, y = X.to(device), y.to(device).unsqueeze(1)\n",
    "            y = y.to(torch.float32)\n",
    "\n",
    "            pred = model(X)\n",
    "            loss = loss_fn(pred, y)\n",
    "\n",
    "            batch_losses.append(loss.item())\n",
    "            predicted = (pred > 0.5).float()\n",
    "            correct = (predicted == y).sum().item()\n",
    "            accuracy = correct / y.size(0)\n",
    "            batch_acc.append(accuracy)\n",
    "    \n",
    "    avg_loss = sum(batch_losses) / len(batch_losses)\n",
    "    avg_accuracy = sum(batch_acc) / len(batch_acc)\n",
    "\n",
    "    return avg_loss, avg_accuracy\n"
   ]
  },
  {
   "cell_type": "markdown",
   "metadata": {},
   "source": [
    "Our `NCNet()` class defines a neural network with two convolutional layers, followed by max-pooling layers, and three fully connected layers."
   ]
  },
  {
   "cell_type": "code",
   "execution_count": 8,
   "metadata": {},
   "outputs": [
    {
     "name": "stdout",
     "output_type": "stream",
     "text": [
      "==========================================================================================\n",
      "Layer (type:depth-idx)                   Output Shape              Param #\n",
      "==========================================================================================\n",
      "NCNet                                    [16, 1]                   --\n",
      "├─Conv2d: 1-1                            [16, 16, 62, 62]          448\n",
      "├─MaxPool2d: 1-2                         [16, 16, 31, 31]          --\n",
      "├─Conv2d: 1-3                            [16, 8, 29, 29]           1,160\n",
      "├─MaxPool2d: 1-4                         [16, 8, 14, 14]           --\n",
      "├─Linear: 1-5                            [16, 120]                 188,280\n",
      "├─Linear: 1-6                            [16, 32]                  3,872\n",
      "├─Linear: 1-7                            [16, 1]                   33\n",
      "==========================================================================================\n",
      "Total params: 193,793\n",
      "Trainable params: 193,793\n",
      "Non-trainable params: 0\n",
      "Total mult-adds (Units.MEGABYTES): 46.24\n",
      "==========================================================================================\n",
      "Input size (MB): 0.79\n",
      "Forward/backward pass size (MB): 8.75\n",
      "Params size (MB): 0.78\n",
      "Estimated Total Size (MB): 10.31\n",
      "==========================================================================================\n"
     ]
    }
   ],
   "source": [
    "class NCNet(nn.Module):\n",
    "    def __init__(self):\n",
    "        super(NCNet, self).__init__()\n",
    "        self.conv1 = nn.Conv2d(3, 16, 3)\n",
    "        self.pool = nn.MaxPool2d(2, 2)\n",
    "        self.conv2 = nn.Conv2d(16, 8, 3)\n",
    "\n",
    "        self.fc1 = nn.Linear(8 * 14 * 14, 120)\n",
    "        self.fc2 = nn.Linear(120, 32)\n",
    "        self.fc3 = nn.Linear(32, 1)\n",
    "        # self.threshold = nn.Threshold(0.5, 0)\n",
    "\n",
    "    def forward(self, x):\n",
    "        x = self.pool(F.relu(self.conv1(x)))\n",
    "        x = self.pool(F.relu(self.conv2(x)))\n",
    "\n",
    "        x = torch.flatten(x, 1) # flatten all dimensions except batch\n",
    "        \n",
    "        x = F.relu(self.fc1(x))\n",
    "        x = F.relu(self.fc2(x))\n",
    "        x = self.fc3(x)\n",
    "        # x = torch.sigmoid(x)\n",
    "        # x = self.threshold(x)\n",
    "        x = x.to(torch.float32)\n",
    "        return x\n",
    "\n",
    "model = NCNet().to(device)\n",
    "print(summary(model, (16, 3, 64, 64)))"
   ]
  },
  {
   "cell_type": "markdown",
   "metadata": {},
   "source": [
    "Now, we create an instance of the `NCNet()` model is created and moved to the specified device (CPU or MPS). The loss function we use, `torch.nn.BCEWithLogitsLoss()`, applies for binary classification tasks. It combines a Sigmoid layer and the Binary Cross-Entropy Loss in one single class, which is more numerically stable than using a plain Sigmoid followed by a BCELoss. Our optimizer function for backpropagation, `torch.optim.Adam` is chosen as the optimizer, which is an adaptive learning rate optimization algorithm that's been designed specifically for training deep neural networks. It is initialized with a learning rate of 0.001.\n",
    "\n",
    "The model is trained for a specified number of epochs `EPOCHS`, in this case, 25. For each epoch, the `train_loop` function is called, which performs a forward pass, computes the loss, backpropagates the error, and updates the model parameters. The average loss and accuracy for each epoch are stored in epoch_losses and epoch_acc lists, respectively. At the end of each epoch, the average loss and accuracy are printed to monitor the training process.\n"
   ]
  },
  {
   "cell_type": "code",
   "execution_count": 9,
   "metadata": {},
   "outputs": [
    {
     "name": "stdout",
     "output_type": "stream",
     "text": [
      "[======================= Epoch 1/25 =======================]\n"
     ]
    },
    {
     "name": "stderr",
     "output_type": "stream",
     "text": [
      "Training: 100%|██████████| 601/601 [00:12<00:00, 47.04it/s]\n"
     ]
    },
    {
     "name": "stdout",
     "output_type": "stream",
     "text": [
      "Avg Loss: 0.3608, Avg Accuracy: 0.8328\n",
      "[======================= Epoch 2/25 =======================]\n"
     ]
    },
    {
     "name": "stderr",
     "output_type": "stream",
     "text": [
      "Training: 100%|██████████| 601/601 [00:12<00:00, 49.69it/s]\n"
     ]
    },
    {
     "name": "stdout",
     "output_type": "stream",
     "text": [
      "Avg Loss: 0.3163, Avg Accuracy: 0.8551\n",
      "[======================= Epoch 3/25 =======================]\n"
     ]
    },
    {
     "name": "stderr",
     "output_type": "stream",
     "text": [
      "Training: 100%|██████████| 601/601 [00:11<00:00, 50.11it/s]\n"
     ]
    },
    {
     "name": "stdout",
     "output_type": "stream",
     "text": [
      "Avg Loss: 0.3037, Avg Accuracy: 0.8604\n",
      "[======================= Epoch 4/25 =======================]\n"
     ]
    },
    {
     "name": "stderr",
     "output_type": "stream",
     "text": [
      "Training: 100%|██████████| 601/601 [00:10<00:00, 54.92it/s]\n"
     ]
    },
    {
     "name": "stdout",
     "output_type": "stream",
     "text": [
      "Avg Loss: 0.2952, Avg Accuracy: 0.8662\n",
      "[======================= Epoch 5/25 =======================]\n"
     ]
    },
    {
     "name": "stderr",
     "output_type": "stream",
     "text": [
      "Training: 100%|██████████| 601/601 [00:11<00:00, 54.14it/s]\n"
     ]
    },
    {
     "name": "stdout",
     "output_type": "stream",
     "text": [
      "Avg Loss: 0.2912, Avg Accuracy: 0.8674\n",
      "[======================= Epoch 6/25 =======================]\n"
     ]
    },
    {
     "name": "stderr",
     "output_type": "stream",
     "text": [
      "Training: 100%|██████████| 601/601 [00:11<00:00, 51.55it/s]\n"
     ]
    },
    {
     "name": "stdout",
     "output_type": "stream",
     "text": [
      "Avg Loss: 0.2814, Avg Accuracy: 0.8706\n",
      "[======================= Epoch 7/25 =======================]\n"
     ]
    },
    {
     "name": "stderr",
     "output_type": "stream",
     "text": [
      "Training: 100%|██████████| 601/601 [00:10<00:00, 54.64it/s]\n"
     ]
    },
    {
     "name": "stdout",
     "output_type": "stream",
     "text": [
      "Avg Loss: 0.2716, Avg Accuracy: 0.8778\n",
      "[======================= Epoch 8/25 =======================]\n"
     ]
    },
    {
     "name": "stderr",
     "output_type": "stream",
     "text": [
      "Training: 100%|██████████| 601/601 [00:09<00:00, 62.32it/s]\n"
     ]
    },
    {
     "name": "stdout",
     "output_type": "stream",
     "text": [
      "Avg Loss: 0.2679, Avg Accuracy: 0.8785\n",
      "[======================= Epoch 9/25 =======================]\n"
     ]
    },
    {
     "name": "stderr",
     "output_type": "stream",
     "text": [
      "Training: 100%|██████████| 601/601 [00:09<00:00, 62.36it/s]\n"
     ]
    },
    {
     "name": "stdout",
     "output_type": "stream",
     "text": [
      "Avg Loss: 0.2600, Avg Accuracy: 0.8837\n",
      "[======================= Epoch 10/25 =======================]\n"
     ]
    },
    {
     "name": "stderr",
     "output_type": "stream",
     "text": [
      "Training: 100%|██████████| 601/601 [00:11<00:00, 54.18it/s]\n"
     ]
    },
    {
     "name": "stdout",
     "output_type": "stream",
     "text": [
      "Avg Loss: 0.2611, Avg Accuracy: 0.8808\n",
      "[======================= Epoch 11/25 =======================]\n"
     ]
    },
    {
     "name": "stderr",
     "output_type": "stream",
     "text": [
      "Training: 100%|██████████| 601/601 [00:09<00:00, 61.83it/s]\n"
     ]
    },
    {
     "name": "stdout",
     "output_type": "stream",
     "text": [
      "Avg Loss: 0.2560, Avg Accuracy: 0.8837\n",
      "[======================= Epoch 12/25 =======================]\n"
     ]
    },
    {
     "name": "stderr",
     "output_type": "stream",
     "text": [
      "Training: 100%|██████████| 601/601 [00:09<00:00, 62.98it/s]\n"
     ]
    },
    {
     "name": "stdout",
     "output_type": "stream",
     "text": [
      "Avg Loss: 0.2514, Avg Accuracy: 0.8898\n",
      "[======================= Epoch 13/25 =======================]\n"
     ]
    },
    {
     "name": "stderr",
     "output_type": "stream",
     "text": [
      "Training: 100%|██████████| 601/601 [00:09<00:00, 64.40it/s]\n"
     ]
    },
    {
     "name": "stdout",
     "output_type": "stream",
     "text": [
      "Avg Loss: 0.2525, Avg Accuracy: 0.8852\n",
      "[======================= Epoch 14/25 =======================]\n"
     ]
    },
    {
     "name": "stderr",
     "output_type": "stream",
     "text": [
      "Training: 100%|██████████| 601/601 [00:10<00:00, 57.93it/s]\n"
     ]
    },
    {
     "name": "stdout",
     "output_type": "stream",
     "text": [
      "Avg Loss: 0.2415, Avg Accuracy: 0.8922\n",
      "[======================= Epoch 15/25 =======================]\n"
     ]
    },
    {
     "name": "stderr",
     "output_type": "stream",
     "text": [
      "Training: 100%|██████████| 601/601 [00:11<00:00, 53.96it/s]\n"
     ]
    },
    {
     "name": "stdout",
     "output_type": "stream",
     "text": [
      "Avg Loss: 0.2426, Avg Accuracy: 0.8935\n",
      "[======================= Epoch 16/25 =======================]\n"
     ]
    },
    {
     "name": "stderr",
     "output_type": "stream",
     "text": [
      "Training: 100%|██████████| 601/601 [00:10<00:00, 58.78it/s]\n"
     ]
    },
    {
     "name": "stdout",
     "output_type": "stream",
     "text": [
      "Avg Loss: 0.2413, Avg Accuracy: 0.8936\n",
      "[======================= Epoch 17/25 =======================]\n"
     ]
    },
    {
     "name": "stderr",
     "output_type": "stream",
     "text": [
      "Training: 100%|██████████| 601/601 [00:10<00:00, 59.00it/s]\n"
     ]
    },
    {
     "name": "stdout",
     "output_type": "stream",
     "text": [
      "Avg Loss: 0.2388, Avg Accuracy: 0.8956\n",
      "[======================= Epoch 18/25 =======================]\n"
     ]
    },
    {
     "name": "stderr",
     "output_type": "stream",
     "text": [
      "Training: 100%|██████████| 601/601 [00:10<00:00, 56.89it/s]\n"
     ]
    },
    {
     "name": "stdout",
     "output_type": "stream",
     "text": [
      "Avg Loss: 0.2369, Avg Accuracy: 0.9000\n",
      "[======================= Epoch 19/25 =======================]\n"
     ]
    },
    {
     "name": "stderr",
     "output_type": "stream",
     "text": [
      "Training: 100%|██████████| 601/601 [00:10<00:00, 56.03it/s]\n"
     ]
    },
    {
     "name": "stdout",
     "output_type": "stream",
     "text": [
      "Avg Loss: 0.2377, Avg Accuracy: 0.8968\n",
      "[======================= Epoch 20/25 =======================]\n"
     ]
    },
    {
     "name": "stderr",
     "output_type": "stream",
     "text": [
      "Training: 100%|██████████| 601/601 [00:10<00:00, 56.31it/s]\n"
     ]
    },
    {
     "name": "stdout",
     "output_type": "stream",
     "text": [
      "Avg Loss: 0.2298, Avg Accuracy: 0.8991\n",
      "[======================= Epoch 21/25 =======================]\n"
     ]
    },
    {
     "name": "stderr",
     "output_type": "stream",
     "text": [
      "Training: 100%|██████████| 601/601 [00:10<00:00, 56.37it/s]\n"
     ]
    },
    {
     "name": "stdout",
     "output_type": "stream",
     "text": [
      "Avg Loss: 0.2299, Avg Accuracy: 0.8965\n",
      "[======================= Epoch 22/25 =======================]\n"
     ]
    },
    {
     "name": "stderr",
     "output_type": "stream",
     "text": [
      "Training: 100%|██████████| 601/601 [00:10<00:00, 56.41it/s]\n"
     ]
    },
    {
     "name": "stdout",
     "output_type": "stream",
     "text": [
      "Avg Loss: 0.2322, Avg Accuracy: 0.8965\n",
      "[======================= Epoch 23/25 =======================]\n"
     ]
    },
    {
     "name": "stderr",
     "output_type": "stream",
     "text": [
      "Training: 100%|██████████| 601/601 [00:10<00:00, 55.82it/s]\n"
     ]
    },
    {
     "name": "stdout",
     "output_type": "stream",
     "text": [
      "Avg Loss: 0.2259, Avg Accuracy: 0.9040\n",
      "[======================= Epoch 24/25 =======================]\n"
     ]
    },
    {
     "name": "stderr",
     "output_type": "stream",
     "text": [
      "Training: 100%|██████████| 601/601 [00:10<00:00, 59.38it/s]\n"
     ]
    },
    {
     "name": "stdout",
     "output_type": "stream",
     "text": [
      "Avg Loss: 0.2246, Avg Accuracy: 0.9032\n",
      "[======================= Epoch 25/25 =======================]\n"
     ]
    },
    {
     "name": "stderr",
     "output_type": "stream",
     "text": [
      "Training: 100%|██████████| 601/601 [00:10<00:00, 55.10it/s]"
     ]
    },
    {
     "name": "stdout",
     "output_type": "stream",
     "text": [
      "Avg Loss: 0.2254, Avg Accuracy: 0.9023\n",
      "\n",
      "[ Finished Training! ]\n"
     ]
    },
    {
     "name": "stderr",
     "output_type": "stream",
     "text": [
      "\n"
     ]
    }
   ],
   "source": [
    "# Initialize model, loss function, and optimizer\n",
    "model = NCNet().to(device)\n",
    "\n",
    "# Binary Cross Entropy with Logits Loss function\n",
    "# Adam optimizer with a learning rate of 0.001\n",
    "loss_fn = torch.nn.BCEWithLogitsLoss()\n",
    "optimizer = torch.optim.Adam(model.parameters(), lr=1e-3)\n",
    "\n",
    "# Number of epochs to train the model\n",
    "EPOCHS = 25\n",
    "\n",
    "# Lists to store the average loss and accuracy for each epoch\n",
    "epoch_losses = []\n",
    "epoch_acc = []\n",
    "\n",
    "for epoch in range(EPOCHS):\n",
    "    print(f\"[======================= Epoch {epoch + 1}/{EPOCHS} =======================]\")\n",
    "    avg_loss, avg_accuracy = train_loop(train_loader, model, loss_fn, optimizer)\n",
    "    epoch_losses.append(avg_loss)\n",
    "    epoch_acc.append(avg_accuracy)\n",
    "\n",
    "print(\"\\n[ Finished Training! ]\")"
   ]
  },
  {
   "cell_type": "markdown",
   "metadata": {},
   "source": [
    "To see our training performance, we plot our training loss and accuracy. We create a side-by-side comparison of the training loss and accuracy over the epochs, with smooth trend lines to visualize the overall trend."
   ]
  },
  {
   "cell_type": "code",
   "execution_count": 10,
   "metadata": {},
   "outputs": [
    {
     "data": {
      "image/png": "[encoded data removed]",
      "text/plain": [
       "<Figure size 1400x600 with 2 Axes>"
      ]
     },
     "metadata": {},
     "output_type": "display_data"
    }
   ],
   "source": [
    "# Create subplots\n",
    "fig, (ax1, ax2) = plt.subplots(1, 2, figsize=(14, 6))\n",
    "\n",
    "# Plot training loss with smooth trend line\n",
    "x = np.arange(len(epoch_losses))\n",
    "z = np.polyfit(x, epoch_losses, 2)  # Fit a 2nd degree polynomial\n",
    "p = np.poly1d(z)\n",
    "ax1.plot(x, epoch_losses, marker='.', linestyle='-', color='b', label='Loss')\n",
    "ax1.plot(x, p(x), color='orange', linestyle='--', linewidth=1, label='Smooth Loss')\n",
    "ax1.set_title('Training Loss')\n",
    "ax1.set_xlabel(\"Epochs\")\n",
    "ax1.set_ylabel(\"Loss\")\n",
    "ax1.legend()\n",
    "\n",
    "# Plot training accuracy with smooth trend line\n",
    "x = np.arange(len(epoch_acc))\n",
    "z = np.polyfit(x, epoch_acc, 2)  # Fit a 2nd degree polynomial\n",
    "p = np.poly1d(z)\n",
    "ax2.plot(x, epoch_acc, marker='.', linestyle='-', color='r', label='Accuracy')\n",
    "ax2.plot(x, p(x), color='orange', linestyle='--', linewidth=1, label='Smooth Accuracy')\n",
    "ax2.set_title('Training Accuracy')\n",
    "ax2.set_xlabel(\"Epochs\")\n",
    "ax2.set_ylabel(\"Accuracy\")\n",
    "ax2.legend()\n",
    "\n",
    "# Add a header title for the entire figure\n",
    "fig.suptitle(f'Model Training Performance for NCNet at {EPOCHS} Epochs', fontsize=16)\n",
    "\n",
    "plt.tight_layout()\n",
    "plt.show()"
   ]
  },
  {
   "cell_type": "markdown",
   "metadata": {},
   "source": [
    "We wanto to observe the variability in loss and accuracy across multiple iterations of testing, providing insights into the stability and performance of our model. For 100 `k` iterations, we wish to see test performance of the top 10 best performing inferences."
   ]
  },
  {
   "cell_type": "code",
   "execution_count": 11,
   "metadata": {},
   "outputs": [
    {
     "name": "stdout",
     "output_type": "stream",
     "text": [
      "[======================= Random Iterations 0/100 =======================]\n",
      "[======================= Random Iterations 10/100 =======================]\n",
      "[======================= Random Iterations 20/100 =======================]\n",
      "[======================= Random Iterations 30/100 =======================]\n",
      "[======================= Random Iterations 40/100 =======================]\n",
      "[======================= Random Iterations 50/100 =======================]\n",
      "[======================= Random Iterations 60/100 =======================]\n",
      "[======================= Random Iterations 70/100 =======================]\n",
      "[======================= Random Iterations 80/100 =======================]\n",
      "[======================= Random Iterations 90/100 =======================]\n"
     ]
    },
    {
     "data": {
      "text/html": [
       "<div>\n",
       "<style scoped>\n",
       "    .dataframe tbody tr th:only-of-type {\n",
       "        vertical-align: middle;\n",
       "    }\n",
       "\n",
       "    .dataframe tbody tr th {\n",
       "        vertical-align: top;\n",
       "    }\n",
       "\n",
       "    .dataframe thead th {\n",
       "        text-align: right;\n",
       "    }\n",
       "</style>\n",
       "<table border=\"1\" class=\"dataframe\">\n",
       "  <thead>\n",
       "    <tr style=\"text-align: right;\">\n",
       "      <th></th>\n",
       "      <th>Best Loss</th>\n",
       "    </tr>\n",
       "    <tr>\n",
       "      <th>k</th>\n",
       "      <th></th>\n",
       "    </tr>\n",
       "  </thead>\n",
       "  <tbody>\n",
       "    <tr>\n",
       "      <th>95</th>\n",
       "      <td>0.263373</td>\n",
       "    </tr>\n",
       "    <tr>\n",
       "      <th>78</th>\n",
       "      <td>0.264492</td>\n",
       "    </tr>\n",
       "    <tr>\n",
       "      <th>5</th>\n",
       "      <td>0.267966</td>\n",
       "    </tr>\n",
       "    <tr>\n",
       "      <th>40</th>\n",
       "      <td>0.268050</td>\n",
       "    </tr>\n",
       "    <tr>\n",
       "      <th>79</th>\n",
       "      <td>0.268841</td>\n",
       "    </tr>\n",
       "    <tr>\n",
       "      <th>94</th>\n",
       "      <td>0.269027</td>\n",
       "    </tr>\n",
       "    <tr>\n",
       "      <th>67</th>\n",
       "      <td>0.269484</td>\n",
       "    </tr>\n",
       "    <tr>\n",
       "      <th>6</th>\n",
       "      <td>0.269613</td>\n",
       "    </tr>\n",
       "    <tr>\n",
       "      <th>1</th>\n",
       "      <td>0.269902</td>\n",
       "    </tr>\n",
       "    <tr>\n",
       "      <th>41</th>\n",
       "      <td>0.270050</td>\n",
       "    </tr>\n",
       "  </tbody>\n",
       "</table>\n",
       "</div>"
      ],
      "text/plain": [
       "    Best Loss\n",
       "k            \n",
       "95   0.263373\n",
       "78   0.264492\n",
       "5    0.267966\n",
       "40   0.268050\n",
       "79   0.268841\n",
       "94   0.269027\n",
       "67   0.269484\n",
       "6    0.269613\n",
       "1    0.269902\n",
       "41   0.270050"
      ]
     },
     "metadata": {},
     "output_type": "display_data"
    },
    {
     "data": {
      "text/html": [
       "<div>\n",
       "<style scoped>\n",
       "    .dataframe tbody tr th:only-of-type {\n",
       "        vertical-align: middle;\n",
       "    }\n",
       "\n",
       "    .dataframe tbody tr th {\n",
       "        vertical-align: top;\n",
       "    }\n",
       "\n",
       "    .dataframe thead th {\n",
       "        text-align: right;\n",
       "    }\n",
       "</style>\n",
       "<table border=\"1\" class=\"dataframe\">\n",
       "  <thead>\n",
       "    <tr style=\"text-align: right;\">\n",
       "      <th></th>\n",
       "      <th>Best Accuracy</th>\n",
       "    </tr>\n",
       "    <tr>\n",
       "      <th>k</th>\n",
       "      <th></th>\n",
       "    </tr>\n",
       "  </thead>\n",
       "  <tbody>\n",
       "    <tr>\n",
       "      <th>93</th>\n",
       "      <td>0.889881</td>\n",
       "    </tr>\n",
       "    <tr>\n",
       "      <th>67</th>\n",
       "      <td>0.889881</td>\n",
       "    </tr>\n",
       "    <tr>\n",
       "      <th>91</th>\n",
       "      <td>0.887897</td>\n",
       "    </tr>\n",
       "    <tr>\n",
       "      <th>65</th>\n",
       "      <td>0.886905</td>\n",
       "    </tr>\n",
       "    <tr>\n",
       "      <th>6</th>\n",
       "      <td>0.886905</td>\n",
       "    </tr>\n",
       "    <tr>\n",
       "      <th>7</th>\n",
       "      <td>0.886905</td>\n",
       "    </tr>\n",
       "    <tr>\n",
       "      <th>82</th>\n",
       "      <td>0.886905</td>\n",
       "    </tr>\n",
       "    <tr>\n",
       "      <th>2</th>\n",
       "      <td>0.886905</td>\n",
       "    </tr>\n",
       "    <tr>\n",
       "      <th>55</th>\n",
       "      <td>0.885913</td>\n",
       "    </tr>\n",
       "    <tr>\n",
       "      <th>74</th>\n",
       "      <td>0.885913</td>\n",
       "    </tr>\n",
       "  </tbody>\n",
       "</table>\n",
       "</div>"
      ],
      "text/plain": [
       "    Best Accuracy\n",
       "k                \n",
       "93       0.889881\n",
       "67       0.889881\n",
       "91       0.887897\n",
       "65       0.886905\n",
       "6        0.886905\n",
       "7        0.886905\n",
       "82       0.886905\n",
       "2        0.886905\n",
       "55       0.885913\n",
       "74       0.885913"
      ]
     },
     "metadata": {},
     "output_type": "display_data"
    }
   ],
   "source": [
    "# Initialize empty lists to store results\n",
    "test_epoch_losses = []\n",
    "test_epoch_acc = []\n",
    "\n",
    "# Perform 100 iterations of testing\n",
    "for k in range(100):\n",
    "    if k % 10 == 0:\n",
    "        print(f\"[======================= Random Iterations {k}/100 =======================]\")\n",
    "    \n",
    "    # Perform testing on the test_loader\n",
    "    test_loss, test_accuracy = test_loop(test_loader, model, loss_fn)\n",
    "    \n",
    "    # Append results to lists\n",
    "    test_epoch_losses.append([k, test_loss])\n",
    "    test_epoch_acc.append([k, test_accuracy])\n",
    "\n",
    "# Convert lists to DataFrames and sort for top results\n",
    "test_epoch_losses_df = pd.DataFrame(test_epoch_losses, columns=['k', 'Best Loss']).sort_values(by='Best Loss', ascending=True)[:10].set_index('k')\n",
    "test_epoch_acc_df = pd.DataFrame(test_epoch_acc, columns=['k', 'Best Accuracy']).sort_values(by='Best Accuracy', ascending=False)[:10].set_index('k')\n",
    "\n",
    "# Display the top results for loss and accuracy\n",
    "display(test_epoch_losses_df, test_epoch_acc_df)"
   ]
  },
  {
   "cell_type": "code",
   "execution_count": null,
   "metadata": {},
   "outputs": [],
   "source": []
  }
 ],
 "metadata": {
  "kernelspec": {
   "display_name": "tinyml",
   "language": "python",
   "name": "python3"
  },
  "language_info": {
   "codemirror_mode": {
    "name": "ipython",
    "version": 3
   },
   "file_extension": ".py",
   "mimetype": "text/x-python",
   "name": "python",
   "nbconvert_exporter": "python",
   "pygments_lexer": "ipython3",
   "version": "3.12.3"
  }
 },
 "nbformat": 4,
 "nbformat_minor": 2
}
